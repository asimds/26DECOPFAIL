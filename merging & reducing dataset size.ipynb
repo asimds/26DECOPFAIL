{
  "nbformat": 4,
  "nbformat_minor": 0,
  "metadata": {
    "colab": {
      "name": "merging.ipynb",
      "provenance": [],
      "mount_file_id": "161NaIKlvwvYGgzGE4C3kl8vFj0ArvHpj",
      "authorship_tag": "ABX9TyO4OJLv8+QKufxwcZupUqDY",
      "include_colab_link": true
    },
    "kernelspec": {
      "name": "python3",
      "display_name": "Python 3"
    },
    "language_info": {
      "name": "python"
    }
  },
  "cells": [
    {
      "cell_type": "markdown",
      "metadata": {
        "id": "view-in-github",
        "colab_type": "text"
      },
      "source": [
        "<a href=\"https://colab.research.google.com/github/asimds/26DECOPFAIL/blob/main/merging%20%26%20reducing%20dataset%20size.ipynb\" target=\"_parent\"><img src=\"https://colab.research.google.com/assets/colab-badge.svg\" alt=\"Open In Colab\"/></a>"
      ]
    },
    {
      "cell_type": "code",
      "execution_count": 2,
      "metadata": {
        "id": "LXZbG_Zhj5DQ"
      },
      "outputs": [],
      "source": [
        "import pandas as pd\n",
        "df_working= pd.read_pickle('/content/drive/MyDrive/con_app_msg')"
      ]
    },
    {
      "cell_type": "code",
      "source": [
        "\n",
        "df_contacts= pd.read_pickle('/content/drive/MyDrive/26Dec21/collections/contacts_cleaned')"
      ],
      "metadata": {
        "id": "DX6JSkJUkAop"
      },
      "execution_count": 3,
      "outputs": []
    },
    {
      "cell_type": "code",
      "source": [
        "df_working2= pd.merge(df_working, df_contacts, on='application_id')"
      ],
      "metadata": {
        "id": "89zblGcPkL1a"
      },
      "execution_count": null,
      "outputs": []
    },
    {
      "cell_type": "code",
      "source": [
        "df_working.dtypes"
      ],
      "metadata": {
        "colab": {
          "base_uri": "https://localhost:8080/"
        },
        "id": "tyB9_6d-s4YL",
        "outputId": "9c6540d0-7e18-4663-ea4c-ee65d46d59a8"
      },
      "execution_count": 8,
      "outputs": [
        {
          "output_type": "execute_result",
          "data": {
            "text/plain": [
              "MOBILE_NUMBER              object\n",
              "STATUS                     object\n",
              "CAUSE                      object\n",
              "LATENCY_MINUTES           float64\n",
              "NUMBER_MESSAGES            object\n",
              "MESSAGE_TYPE               object\n",
              "MSG_DELIVERED      datetime64[ns]\n",
              "part_of_day                object\n",
              "MONTH                       int64\n",
              "DAY                         int64\n",
              "WEEK_OF_YEAR                int64\n",
              "application_id              int64\n",
              "name                       object\n",
              "status                     object\n",
              "user_id                     int64\n",
              "experiment_id               int64\n",
              "dtype: object"
            ]
          },
          "metadata": {},
          "execution_count": 8
        }
      ]
    },
    {
      "cell_type": "code",
      "source": [
        "df_contacts.info()"
      ],
      "metadata": {
        "colab": {
          "base_uri": "https://localhost:8080/"
        },
        "id": "Nzlc1c8fsiRq",
        "outputId": "57786dbe-4eff-49ae-cf26-45b3764991b5"
      },
      "execution_count": 9,
      "outputs": [
        {
          "output_type": "stream",
          "name": "stdout",
          "text": [
            "<class 'pandas.core.frame.DataFrame'>\n",
            "Int64Index: 1026760 entries, 0 to 1028089\n",
            "Data columns (total 3 columns):\n",
            " #   Column          Non-Null Count    Dtype \n",
            "---  ------          --------------    ----- \n",
            " 0   application_id  1026760 non-null  int64 \n",
            " 1   contact         1026760 non-null  object\n",
            " 2   name            1026760 non-null  object\n",
            "dtypes: int64(1), object(2)\n",
            "memory usage: 31.3+ MB\n"
          ]
        }
      ]
    },
    {
      "cell_type": "code",
      "source": [
        "df_working.info()"
      ],
      "metadata": {
        "colab": {
          "base_uri": "https://localhost:8080/"
        },
        "id": "UZ37lEOxtNP1",
        "outputId": "da7d0b85-88c6-4929-e29d-4bce4dd6b767"
      },
      "execution_count": 10,
      "outputs": [
        {
          "output_type": "stream",
          "name": "stdout",
          "text": [
            "<class 'pandas.core.frame.DataFrame'>\n",
            "Int64Index: 6042107 entries, 0 to 6042106\n",
            "Data columns (total 16 columns):\n",
            " #   Column           Dtype         \n",
            "---  ------           -----         \n",
            " 0   MOBILE_NUMBER    object        \n",
            " 1   STATUS           object        \n",
            " 2   CAUSE            object        \n",
            " 3   LATENCY_MINUTES  float64       \n",
            " 4   NUMBER_MESSAGES  object        \n",
            " 5   MESSAGE_TYPE     object        \n",
            " 6   MSG_DELIVERED    datetime64[ns]\n",
            " 7   part_of_day      object        \n",
            " 8   MONTH            int64         \n",
            " 9   DAY              int64         \n",
            " 10  WEEK_OF_YEAR     int64         \n",
            " 11  application_id   int64         \n",
            " 12  name             object        \n",
            " 13  status           object        \n",
            " 14  user_id          int64         \n",
            " 15  experiment_id    int64         \n",
            "dtypes: datetime64[ns](1), float64(1), int64(6), object(8)\n",
            "memory usage: 783.7+ MB\n"
          ]
        }
      ]
    },
    {
      "cell_type": "code",
      "source": [
        "pip install downcast"
      ],
      "metadata": {
        "colab": {
          "base_uri": "https://localhost:8080/"
        },
        "id": "l0antiQXvcyS",
        "outputId": "031f8a4c-5eba-4599-e873-8b820b07f40b"
      },
      "execution_count": 13,
      "outputs": [
        {
          "output_type": "stream",
          "name": "stdout",
          "text": [
            "Collecting downcast\n",
            "  Downloading downcast-0.0.8-py3-none-any.whl (3.3 kB)\n",
            "Installing collected packages: downcast\n",
            "Successfully installed downcast-0.0.8\n"
          ]
        }
      ]
    },
    {
      "cell_type": "code",
      "source": [
        "from downcast import reduce"
      ],
      "metadata": {
        "id": "pEiPz0hBvhqw"
      },
      "execution_count": 14,
      "outputs": []
    },
    {
      "cell_type": "code",
      "source": [
        "df = reduce(df_working) "
      ],
      "metadata": {
        "id": "uu8Xk_DxvjYR"
      },
      "execution_count": 15,
      "outputs": []
    },
    {
      "cell_type": "code",
      "source": [
        "df.info()"
      ],
      "metadata": {
        "colab": {
          "base_uri": "https://localhost:8080/"
        },
        "id": "ANYNEb-svjWI",
        "outputId": "6c849558-eb9a-43ac-cd42-5a0b8f92342b"
      },
      "execution_count": 16,
      "outputs": [
        {
          "output_type": "stream",
          "name": "stdout",
          "text": [
            "<class 'pandas.core.frame.DataFrame'>\n",
            "Int64Index: 6042107 entries, 0 to 6042106\n",
            "Data columns (total 16 columns):\n",
            " #   Column           Dtype         \n",
            "---  ------           -----         \n",
            " 0   MOBILE_NUMBER    category      \n",
            " 1   STATUS           category      \n",
            " 2   CAUSE            category      \n",
            " 3   LATENCY_MINUTES  float16       \n",
            " 4   NUMBER_MESSAGES  category      \n",
            " 5   MESSAGE_TYPE     category      \n",
            " 6   MSG_DELIVERED    datetime64[ns]\n",
            " 7   part_of_day      category      \n",
            " 8   MONTH            int8          \n",
            " 9   DAY              int8          \n",
            " 10  WEEK_OF_YEAR     int8          \n",
            " 11  application_id   int32         \n",
            " 12  name             category      \n",
            " 13  status           category      \n",
            " 14  user_id          int32         \n",
            " 15  experiment_id    int8          \n",
            "dtypes: category(8), datetime64[ns](1), float16(1), int32(2), int8(4)\n",
            "memory usage: 256.8 MB\n"
          ]
        }
      ]
    },
    {
      "cell_type": "code",
      "source": [
        "df2 = reduce(df_contacts)"
      ],
      "metadata": {
        "id": "b7GmwCrGvjTA"
      },
      "execution_count": 17,
      "outputs": []
    },
    {
      "cell_type": "code",
      "source": [
        "df2.info()"
      ],
      "metadata": {
        "colab": {
          "base_uri": "https://localhost:8080/"
        },
        "id": "M3DLLcE4vjQO",
        "outputId": "a1f0472e-aa15-4fc7-e2fd-cfe0b1fe1eae"
      },
      "execution_count": 18,
      "outputs": [
        {
          "output_type": "stream",
          "name": "stdout",
          "text": [
            "<class 'pandas.core.frame.DataFrame'>\n",
            "Int64Index: 1026760 entries, 0 to 1028089\n",
            "Data columns (total 3 columns):\n",
            " #   Column          Non-Null Count    Dtype   \n",
            "---  ------          --------------    -----   \n",
            " 0   application_id  1026760 non-null  category\n",
            " 1   contact         1026760 non-null  category\n",
            " 2   name            1026760 non-null  category\n",
            "dtypes: category(3)\n",
            "memory usage: 111.9 MB\n"
          ]
        }
      ]
    },
    {
      "cell_type": "code",
      "source": [
        ""
      ],
      "metadata": {
        "id": "vgyEJ2SLvjNg"
      },
      "execution_count": null,
      "outputs": []
    },
    {
      "cell_type": "code",
      "source": [
        ""
      ],
      "metadata": {
        "id": "iLGVctUOvjK-"
      },
      "execution_count": null,
      "outputs": []
    },
    {
      "cell_type": "code",
      "source": [
        "df_contacts['application_id'] = df_contacts.application_id.astype(str)"
      ],
      "metadata": {
        "id": "bElOqEPEtdOI"
      },
      "execution_count": 11,
      "outputs": []
    },
    {
      "cell_type": "code",
      "source": [
        "df_contacts.info()"
      ],
      "metadata": {
        "colab": {
          "base_uri": "https://localhost:8080/"
        },
        "id": "DXq_kIh8tdLW",
        "outputId": "e2fb252d-2612-4eb8-f4fe-b9db19fb969c"
      },
      "execution_count": 12,
      "outputs": [
        {
          "output_type": "stream",
          "name": "stdout",
          "text": [
            "<class 'pandas.core.frame.DataFrame'>\n",
            "Int64Index: 1026760 entries, 0 to 1028089\n",
            "Data columns (total 3 columns):\n",
            " #   Column          Non-Null Count    Dtype \n",
            "---  ------          --------------    ----- \n",
            " 0   application_id  1026760 non-null  object\n",
            " 1   contact         1026760 non-null  object\n",
            " 2   name            1026760 non-null  object\n",
            "dtypes: object(3)\n",
            "memory usage: 31.3+ MB\n"
          ]
        }
      ]
    },
    {
      "cell_type": "code",
      "source": [
        ""
      ],
      "metadata": {
        "id": "-_OaVHJ7tc0F"
      },
      "execution_count": null,
      "outputs": []
    },
    {
      "cell_type": "code",
      "source": [
        "df_working2.to_pickle('/content/drive/MyDrive/merged')"
      ],
      "metadata": {
        "id": "OR2sNnjNkQ93"
      },
      "execution_count": null,
      "outputs": []
    }
  ]
}