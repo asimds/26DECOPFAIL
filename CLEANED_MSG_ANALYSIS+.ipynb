{
  "nbformat": 4,
  "nbformat_minor": 0,
  "metadata": {
    "colab": {
      "name": "CLEANED MSG ANALYSIS+.ipynb",
      "provenance": [],
      "collapsed_sections": [],
      "mount_file_id": "1ORF3oYbb7rlCcZEMBqXoF6Wq9f_F4jLb",
      "authorship_tag": "ABX9TyN+YTjTco34qPamSSa4Pxvd",
      "include_colab_link": true
    },
    "kernelspec": {
      "name": "python3",
      "display_name": "Python 3"
    },
    "language_info": {
      "name": "python"
    }
  },
  "cells": [
    {
      "cell_type": "markdown",
      "metadata": {
        "id": "view-in-github",
        "colab_type": "text"
      },
      "source": [
        "<a href=\"https://colab.research.google.com/github/asimds/26DECOPFAIL/blob/main/CLEANED_MSG_ANALYSIS%2B.ipynb\" target=\"_parent\"><img src=\"https://colab.research.google.com/assets/colab-badge.svg\" alt=\"Open In Colab\"/></a>"
      ]
    },
    {
      "cell_type": "code",
      "execution_count": 3,
      "metadata": {
        "id": "KADImT1SSrBb"
      },
      "outputs": [],
      "source": [
        "import pandas as pd\n",
        "df = pd.read_pickle('/content/drive/MyDrive/26Dec21/data')"
      ]
    },
    {
      "cell_type": "code",
      "source": [
        "df.head()"
      ],
      "metadata": {
        "colab": {
          "base_uri": "https://localhost:8080/",
          "height": 357
        },
        "id": "dmiXxJFZMUJO",
        "outputId": "34548cc9-5c53-46d3-d0ff-23bc8960d468"
      },
      "execution_count": 4,
      "outputs": [
        {
          "output_type": "execute_result",
          "data": {
            "text/html": [
              "\n",
              "  <div id=\"df-92bc8361-9bc8-4283-ae1e-b5b07ae474c6\">\n",
              "    <div class=\"colab-df-container\">\n",
              "      <div>\n",
              "<style scoped>\n",
              "    .dataframe tbody tr th:only-of-type {\n",
              "        vertical-align: middle;\n",
              "    }\n",
              "\n",
              "    .dataframe tbody tr th {\n",
              "        vertical-align: top;\n",
              "    }\n",
              "\n",
              "    .dataframe thead th {\n",
              "        text-align: right;\n",
              "    }\n",
              "</style>\n",
              "<table border=\"1\" class=\"dataframe\">\n",
              "  <thead>\n",
              "    <tr style=\"text-align: right;\">\n",
              "      <th></th>\n",
              "      <th>MOBILE_NUMBER</th>\n",
              "      <th>TIMESTAMP</th>\n",
              "      <th>STATUS</th>\n",
              "      <th>CAUSE</th>\n",
              "      <th>LATENCY_MINUTES</th>\n",
              "      <th>SMSTYPE</th>\n",
              "      <th>NUMBER_MESSAGES</th>\n",
              "      <th>MESSAGE_TYPE</th>\n",
              "      <th>MSG_DELIVERED</th>\n",
              "    </tr>\n",
              "  </thead>\n",
              "  <tbody>\n",
              "    <tr>\n",
              "      <th>0</th>\n",
              "      <td>9958839124</td>\n",
              "      <td>2021-06-05 16:03:31</td>\n",
              "      <td>Delivered</td>\n",
              "      <td>Delivered</td>\n",
              "      <td>0.0</td>\n",
              "      <td>TEXT</td>\n",
              "      <td>1</td>\n",
              "      <td>OTP</td>\n",
              "      <td>2021-06-05 16:03:31</td>\n",
              "    </tr>\n",
              "    <tr>\n",
              "      <th>1</th>\n",
              "      <td>6204839638</td>\n",
              "      <td>2021-06-05 20:41:57</td>\n",
              "      <td>Delivered</td>\n",
              "      <td>Delivered</td>\n",
              "      <td>0.0</td>\n",
              "      <td>TEXT</td>\n",
              "      <td>1</td>\n",
              "      <td>OTP</td>\n",
              "      <td>2021-06-05 20:41:57</td>\n",
              "    </tr>\n",
              "    <tr>\n",
              "      <th>2</th>\n",
              "      <td>6201108256</td>\n",
              "      <td>2021-06-05 20:41:57</td>\n",
              "      <td>Delivered</td>\n",
              "      <td>Delivered</td>\n",
              "      <td>0.0</td>\n",
              "      <td>TEXT</td>\n",
              "      <td>1</td>\n",
              "      <td>OTP</td>\n",
              "      <td>2021-06-05 20:41:57</td>\n",
              "    </tr>\n",
              "    <tr>\n",
              "      <th>3</th>\n",
              "      <td>8435178035</td>\n",
              "      <td>2021-06-05 20:41:59</td>\n",
              "      <td>Delivered</td>\n",
              "      <td>Delivered</td>\n",
              "      <td>0.0</td>\n",
              "      <td>TEXT</td>\n",
              "      <td>1</td>\n",
              "      <td>OTP</td>\n",
              "      <td>2021-06-05 20:41:59</td>\n",
              "    </tr>\n",
              "    <tr>\n",
              "      <th>4</th>\n",
              "      <td>8435178035</td>\n",
              "      <td>2021-06-05 20:42:00</td>\n",
              "      <td>Delivered</td>\n",
              "      <td>Delivered</td>\n",
              "      <td>0.1</td>\n",
              "      <td>TEXT</td>\n",
              "      <td>1</td>\n",
              "      <td>OTP</td>\n",
              "      <td>2021-06-05 20:42:06</td>\n",
              "    </tr>\n",
              "  </tbody>\n",
              "</table>\n",
              "</div>\n",
              "      <button class=\"colab-df-convert\" onclick=\"convertToInteractive('df-92bc8361-9bc8-4283-ae1e-b5b07ae474c6')\"\n",
              "              title=\"Convert this dataframe to an interactive table.\"\n",
              "              style=\"display:none;\">\n",
              "        \n",
              "  <svg xmlns=\"http://www.w3.org/2000/svg\" height=\"24px\"viewBox=\"0 0 24 24\"\n",
              "       width=\"24px\">\n",
              "    <path d=\"M0 0h24v24H0V0z\" fill=\"none\"/>\n",
              "    <path d=\"M18.56 5.44l.94 2.06.94-2.06 2.06-.94-2.06-.94-.94-2.06-.94 2.06-2.06.94zm-11 1L8.5 8.5l.94-2.06 2.06-.94-2.06-.94L8.5 2.5l-.94 2.06-2.06.94zm10 10l.94 2.06.94-2.06 2.06-.94-2.06-.94-.94-2.06-.94 2.06-2.06.94z\"/><path d=\"M17.41 7.96l-1.37-1.37c-.4-.4-.92-.59-1.43-.59-.52 0-1.04.2-1.43.59L10.3 9.45l-7.72 7.72c-.78.78-.78 2.05 0 2.83L4 21.41c.39.39.9.59 1.41.59.51 0 1.02-.2 1.41-.59l7.78-7.78 2.81-2.81c.8-.78.8-2.07 0-2.86zM5.41 20L4 18.59l7.72-7.72 1.47 1.35L5.41 20z\"/>\n",
              "  </svg>\n",
              "      </button>\n",
              "      \n",
              "  <style>\n",
              "    .colab-df-container {\n",
              "      display:flex;\n",
              "      flex-wrap:wrap;\n",
              "      gap: 12px;\n",
              "    }\n",
              "\n",
              "    .colab-df-convert {\n",
              "      background-color: #E8F0FE;\n",
              "      border: none;\n",
              "      border-radius: 50%;\n",
              "      cursor: pointer;\n",
              "      display: none;\n",
              "      fill: #1967D2;\n",
              "      height: 32px;\n",
              "      padding: 0 0 0 0;\n",
              "      width: 32px;\n",
              "    }\n",
              "\n",
              "    .colab-df-convert:hover {\n",
              "      background-color: #E2EBFA;\n",
              "      box-shadow: 0px 1px 2px rgba(60, 64, 67, 0.3), 0px 1px 3px 1px rgba(60, 64, 67, 0.15);\n",
              "      fill: #174EA6;\n",
              "    }\n",
              "\n",
              "    [theme=dark] .colab-df-convert {\n",
              "      background-color: #3B4455;\n",
              "      fill: #D2E3FC;\n",
              "    }\n",
              "\n",
              "    [theme=dark] .colab-df-convert:hover {\n",
              "      background-color: #434B5C;\n",
              "      box-shadow: 0px 1px 3px 1px rgba(0, 0, 0, 0.15);\n",
              "      filter: drop-shadow(0px 1px 2px rgba(0, 0, 0, 0.3));\n",
              "      fill: #FFFFFF;\n",
              "    }\n",
              "  </style>\n",
              "\n",
              "      <script>\n",
              "        const buttonEl =\n",
              "          document.querySelector('#df-92bc8361-9bc8-4283-ae1e-b5b07ae474c6 button.colab-df-convert');\n",
              "        buttonEl.style.display =\n",
              "          google.colab.kernel.accessAllowed ? 'block' : 'none';\n",
              "\n",
              "        async function convertToInteractive(key) {\n",
              "          const element = document.querySelector('#df-92bc8361-9bc8-4283-ae1e-b5b07ae474c6');\n",
              "          const dataTable =\n",
              "            await google.colab.kernel.invokeFunction('convertToInteractive',\n",
              "                                                     [key], {});\n",
              "          if (!dataTable) return;\n",
              "\n",
              "          const docLinkHtml = 'Like what you see? Visit the ' +\n",
              "            '<a target=\"_blank\" href=https://colab.research.google.com/notebooks/data_table.ipynb>data table notebook</a>'\n",
              "            + ' to learn more about interactive tables.';\n",
              "          element.innerHTML = '';\n",
              "          dataTable['output_type'] = 'display_data';\n",
              "          await google.colab.output.renderOutput(dataTable, element);\n",
              "          const docLink = document.createElement('div');\n",
              "          docLink.innerHTML = docLinkHtml;\n",
              "          element.appendChild(docLink);\n",
              "        }\n",
              "      </script>\n",
              "    </div>\n",
              "  </div>\n",
              "  "
            ],
            "text/plain": [
              "  MOBILE_NUMBER           TIMESTAMP  ... MESSAGE_TYPE       MSG_DELIVERED\n",
              "0    9958839124 2021-06-05 16:03:31  ...          OTP 2021-06-05 16:03:31\n",
              "1    6204839638 2021-06-05 20:41:57  ...          OTP 2021-06-05 20:41:57\n",
              "2    6201108256 2021-06-05 20:41:57  ...          OTP 2021-06-05 20:41:57\n",
              "3    8435178035 2021-06-05 20:41:59  ...          OTP 2021-06-05 20:41:59\n",
              "4    8435178035 2021-06-05 20:42:00  ...          OTP 2021-06-05 20:42:06\n",
              "\n",
              "[5 rows x 9 columns]"
            ]
          },
          "metadata": {},
          "execution_count": 4
        }
      ]
    },
    {
      "cell_type": "code",
      "source": [
        "df.shape"
      ],
      "metadata": {
        "colab": {
          "base_uri": "https://localhost:8080/"
        },
        "id": "wRD2lSOrMfSF",
        "outputId": "e1eca72b-d0b4-4d9a-c1ab-5d7b27bfeac9"
      },
      "execution_count": 5,
      "outputs": [
        {
          "output_type": "execute_result",
          "data": {
            "text/plain": [
              "(20032982, 9)"
            ]
          },
          "metadata": {},
          "execution_count": 5
        }
      ]
    },
    {
      "cell_type": "code",
      "source": [
        "import numpy as np\n",
        "import matplotlib.pyplot as plt\n",
        "import seaborn as sns\n",
        "import datetime\n",
        "import missingno as msno\n",
        "import matplotlib\n",
        "import matplotlib.pylab as pylab\n",
        "\n",
        "%matplotlib inline\n",
        "matplotlib.style.use('ggplot')\n",
        "sns.set_style('white')\n",
        "pylab.rcParams['figure.figsize'] = 8,6"
      ],
      "metadata": {
        "id": "E8Hd4zkVNwVP"
      },
      "execution_count": 10,
      "outputs": []
    },
    {
      "cell_type": "code",
      "source": [
        "# Plot all the Missing Values in Decending Order\n",
        "%matplotlib inline\n",
        "missing_values = ((df1.isna().sum())/df1.shape[0])*100\n",
        "\n",
        "missing_values.sort_values(ascending=False,inplace = True)\n",
        "missing_values = missing_values.drop(missing_values[missing_values == 0].index)\n",
        "\n",
        "color=['powderblue']\n",
        "\n",
        "plt.figure(figsize=(20,10))\n",
        "missing_values.plot.bar(color = color)\n",
        "plt.xlabel('Features(Columns)')\n",
        "plt.ylabel('% Missing value missing')\n",
        "plt.title('Bar Graph for Missing Feature Percentage ')\n",
        "\n",
        "plt.show()"
      ],
      "metadata": {
        "colab": {
          "base_uri": "https://localhost:8080/",
          "height": 842
        },
        "id": "ISf0Tpq5Na8I",
        "outputId": "a2242760-8254-4bf9-86f3-c105e9bf6405"
      },
      "execution_count": 11,
      "outputs": [
        {
          "output_type": "error",
          "ename": "IndexError",
          "evalue": "ignored",
          "traceback": [
            "\u001b[0;31m---------------------------------------------------------------------------\u001b[0m",
            "\u001b[0;31mIndexError\u001b[0m                                Traceback (most recent call last)",
            "\u001b[0;32m<ipython-input-11-34ec382f06f4>\u001b[0m in \u001b[0;36m<module>\u001b[0;34m()\u001b[0m\n\u001b[1;32m      9\u001b[0m \u001b[0;34m\u001b[0m\u001b[0m\n\u001b[1;32m     10\u001b[0m \u001b[0mplt\u001b[0m\u001b[0;34m.\u001b[0m\u001b[0mfigure\u001b[0m\u001b[0;34m(\u001b[0m\u001b[0mfigsize\u001b[0m\u001b[0;34m=\u001b[0m\u001b[0;34m(\u001b[0m\u001b[0;36m20\u001b[0m\u001b[0;34m,\u001b[0m\u001b[0;36m10\u001b[0m\u001b[0;34m)\u001b[0m\u001b[0;34m)\u001b[0m\u001b[0;34m\u001b[0m\u001b[0;34m\u001b[0m\u001b[0m\n\u001b[0;32m---> 11\u001b[0;31m \u001b[0mmissing_values\u001b[0m\u001b[0;34m.\u001b[0m\u001b[0mplot\u001b[0m\u001b[0;34m.\u001b[0m\u001b[0mbar\u001b[0m\u001b[0;34m(\u001b[0m\u001b[0mcolor\u001b[0m \u001b[0;34m=\u001b[0m \u001b[0mcolor\u001b[0m\u001b[0;34m)\u001b[0m\u001b[0;34m\u001b[0m\u001b[0;34m\u001b[0m\u001b[0m\n\u001b[0m\u001b[1;32m     12\u001b[0m \u001b[0mplt\u001b[0m\u001b[0;34m.\u001b[0m\u001b[0mxlabel\u001b[0m\u001b[0;34m(\u001b[0m\u001b[0;34m'Features(Columns)'\u001b[0m\u001b[0;34m)\u001b[0m\u001b[0;34m\u001b[0m\u001b[0;34m\u001b[0m\u001b[0m\n\u001b[1;32m     13\u001b[0m \u001b[0mplt\u001b[0m\u001b[0;34m.\u001b[0m\u001b[0mylabel\u001b[0m\u001b[0;34m(\u001b[0m\u001b[0;34m'% Missing value missing'\u001b[0m\u001b[0;34m)\u001b[0m\u001b[0;34m\u001b[0m\u001b[0;34m\u001b[0m\u001b[0m\n",
            "\u001b[0;32m/usr/local/lib/python3.7/dist-packages/pandas/plotting/_core.py\u001b[0m in \u001b[0;36mbar\u001b[0;34m(self, x, y, **kwargs)\u001b[0m\n\u001b[1;32m   1105\u001b[0m         \u001b[0mother\u001b[0m \u001b[0maxis\u001b[0m \u001b[0mrepresents\u001b[0m \u001b[0ma\u001b[0m \u001b[0mmeasured\u001b[0m \u001b[0mvalue\u001b[0m\u001b[0;34m.\u001b[0m\u001b[0;34m\u001b[0m\u001b[0;34m\u001b[0m\u001b[0m\n\u001b[1;32m   1106\u001b[0m         \"\"\"\n\u001b[0;32m-> 1107\u001b[0;31m         \u001b[0;32mreturn\u001b[0m \u001b[0mself\u001b[0m\u001b[0;34m(\u001b[0m\u001b[0mkind\u001b[0m\u001b[0;34m=\u001b[0m\u001b[0;34m\"bar\"\u001b[0m\u001b[0;34m,\u001b[0m \u001b[0mx\u001b[0m\u001b[0;34m=\u001b[0m\u001b[0mx\u001b[0m\u001b[0;34m,\u001b[0m \u001b[0my\u001b[0m\u001b[0;34m=\u001b[0m\u001b[0my\u001b[0m\u001b[0;34m,\u001b[0m \u001b[0;34m**\u001b[0m\u001b[0mkwargs\u001b[0m\u001b[0;34m)\u001b[0m\u001b[0;34m\u001b[0m\u001b[0;34m\u001b[0m\u001b[0m\n\u001b[0m\u001b[1;32m   1108\u001b[0m \u001b[0;34m\u001b[0m\u001b[0m\n\u001b[1;32m   1109\u001b[0m     @Appender(\n",
            "\u001b[0;32m/usr/local/lib/python3.7/dist-packages/pandas/plotting/_core.py\u001b[0m in \u001b[0;36m__call__\u001b[0;34m(self, *args, **kwargs)\u001b[0m\n\u001b[1;32m    947\u001b[0m                     \u001b[0mdata\u001b[0m\u001b[0;34m.\u001b[0m\u001b[0mcolumns\u001b[0m \u001b[0;34m=\u001b[0m \u001b[0mlabel_name\u001b[0m\u001b[0;34m\u001b[0m\u001b[0;34m\u001b[0m\u001b[0m\n\u001b[1;32m    948\u001b[0m \u001b[0;34m\u001b[0m\u001b[0m\n\u001b[0;32m--> 949\u001b[0;31m         \u001b[0;32mreturn\u001b[0m \u001b[0mplot_backend\u001b[0m\u001b[0;34m.\u001b[0m\u001b[0mplot\u001b[0m\u001b[0;34m(\u001b[0m\u001b[0mdata\u001b[0m\u001b[0;34m,\u001b[0m \u001b[0mkind\u001b[0m\u001b[0;34m=\u001b[0m\u001b[0mkind\u001b[0m\u001b[0;34m,\u001b[0m \u001b[0;34m**\u001b[0m\u001b[0mkwargs\u001b[0m\u001b[0;34m)\u001b[0m\u001b[0;34m\u001b[0m\u001b[0;34m\u001b[0m\u001b[0m\n\u001b[0m\u001b[1;32m    950\u001b[0m \u001b[0;34m\u001b[0m\u001b[0m\n\u001b[1;32m    951\u001b[0m     \u001b[0m__call__\u001b[0m\u001b[0;34m.\u001b[0m\u001b[0m__doc__\u001b[0m \u001b[0;34m=\u001b[0m \u001b[0m__doc__\u001b[0m\u001b[0;34m\u001b[0m\u001b[0;34m\u001b[0m\u001b[0m\n",
            "\u001b[0;32m/usr/local/lib/python3.7/dist-packages/pandas/plotting/_matplotlib/__init__.py\u001b[0m in \u001b[0;36mplot\u001b[0;34m(data, kind, **kwargs)\u001b[0m\n\u001b[1;32m     59\u001b[0m             \u001b[0mkwargs\u001b[0m\u001b[0;34m[\u001b[0m\u001b[0;34m\"ax\"\u001b[0m\u001b[0;34m]\u001b[0m \u001b[0;34m=\u001b[0m \u001b[0mgetattr\u001b[0m\u001b[0;34m(\u001b[0m\u001b[0max\u001b[0m\u001b[0;34m,\u001b[0m \u001b[0;34m\"left_ax\"\u001b[0m\u001b[0;34m,\u001b[0m \u001b[0max\u001b[0m\u001b[0;34m)\u001b[0m\u001b[0;34m\u001b[0m\u001b[0;34m\u001b[0m\u001b[0m\n\u001b[1;32m     60\u001b[0m     \u001b[0mplot_obj\u001b[0m \u001b[0;34m=\u001b[0m \u001b[0mPLOT_CLASSES\u001b[0m\u001b[0;34m[\u001b[0m\u001b[0mkind\u001b[0m\u001b[0;34m]\u001b[0m\u001b[0;34m(\u001b[0m\u001b[0mdata\u001b[0m\u001b[0;34m,\u001b[0m \u001b[0;34m**\u001b[0m\u001b[0mkwargs\u001b[0m\u001b[0;34m)\u001b[0m\u001b[0;34m\u001b[0m\u001b[0;34m\u001b[0m\u001b[0m\n\u001b[0;32m---> 61\u001b[0;31m     \u001b[0mplot_obj\u001b[0m\u001b[0;34m.\u001b[0m\u001b[0mgenerate\u001b[0m\u001b[0;34m(\u001b[0m\u001b[0;34m)\u001b[0m\u001b[0;34m\u001b[0m\u001b[0;34m\u001b[0m\u001b[0m\n\u001b[0m\u001b[1;32m     62\u001b[0m     \u001b[0mplot_obj\u001b[0m\u001b[0;34m.\u001b[0m\u001b[0mdraw\u001b[0m\u001b[0;34m(\u001b[0m\u001b[0;34m)\u001b[0m\u001b[0;34m\u001b[0m\u001b[0;34m\u001b[0m\u001b[0m\n\u001b[1;32m     63\u001b[0m     \u001b[0;32mreturn\u001b[0m \u001b[0mplot_obj\u001b[0m\u001b[0;34m.\u001b[0m\u001b[0mresult\u001b[0m\u001b[0;34m\u001b[0m\u001b[0;34m\u001b[0m\u001b[0m\n",
            "\u001b[0;32m/usr/local/lib/python3.7/dist-packages/pandas/plotting/_matplotlib/core.py\u001b[0m in \u001b[0;36mgenerate\u001b[0;34m(self)\u001b[0m\n\u001b[1;32m    276\u001b[0m         \u001b[0;32mfor\u001b[0m \u001b[0max\u001b[0m \u001b[0;32min\u001b[0m \u001b[0mself\u001b[0m\u001b[0;34m.\u001b[0m\u001b[0maxes\u001b[0m\u001b[0;34m:\u001b[0m\u001b[0;34m\u001b[0m\u001b[0;34m\u001b[0m\u001b[0m\n\u001b[1;32m    277\u001b[0m             \u001b[0mself\u001b[0m\u001b[0;34m.\u001b[0m\u001b[0m_post_plot_logic_common\u001b[0m\u001b[0;34m(\u001b[0m\u001b[0max\u001b[0m\u001b[0;34m,\u001b[0m \u001b[0mself\u001b[0m\u001b[0;34m.\u001b[0m\u001b[0mdata\u001b[0m\u001b[0;34m)\u001b[0m\u001b[0;34m\u001b[0m\u001b[0;34m\u001b[0m\u001b[0m\n\u001b[0;32m--> 278\u001b[0;31m             \u001b[0mself\u001b[0m\u001b[0;34m.\u001b[0m\u001b[0m_post_plot_logic\u001b[0m\u001b[0;34m(\u001b[0m\u001b[0max\u001b[0m\u001b[0;34m,\u001b[0m \u001b[0mself\u001b[0m\u001b[0;34m.\u001b[0m\u001b[0mdata\u001b[0m\u001b[0;34m)\u001b[0m\u001b[0;34m\u001b[0m\u001b[0;34m\u001b[0m\u001b[0m\n\u001b[0m\u001b[1;32m    279\u001b[0m \u001b[0;34m\u001b[0m\u001b[0m\n\u001b[1;32m    280\u001b[0m     \u001b[0;32mdef\u001b[0m \u001b[0m_args_adjust\u001b[0m\u001b[0;34m(\u001b[0m\u001b[0mself\u001b[0m\u001b[0;34m)\u001b[0m\u001b[0;34m:\u001b[0m\u001b[0;34m\u001b[0m\u001b[0;34m\u001b[0m\u001b[0m\n",
            "\u001b[0;32m/usr/local/lib/python3.7/dist-packages/pandas/plotting/_matplotlib/core.py\u001b[0m in \u001b[0;36m_post_plot_logic\u001b[0;34m(self, ax, data)\u001b[0m\n\u001b[1;32m   1459\u001b[0m         \u001b[0mname\u001b[0m \u001b[0;34m=\u001b[0m \u001b[0mself\u001b[0m\u001b[0;34m.\u001b[0m\u001b[0m_get_index_name\u001b[0m\u001b[0;34m(\u001b[0m\u001b[0;34m)\u001b[0m\u001b[0;34m\u001b[0m\u001b[0;34m\u001b[0m\u001b[0m\n\u001b[1;32m   1460\u001b[0m \u001b[0;34m\u001b[0m\u001b[0m\n\u001b[0;32m-> 1461\u001b[0;31m         \u001b[0ms_edge\u001b[0m \u001b[0;34m=\u001b[0m \u001b[0mself\u001b[0m\u001b[0;34m.\u001b[0m\u001b[0max_pos\u001b[0m\u001b[0;34m[\u001b[0m\u001b[0;36m0\u001b[0m\u001b[0;34m]\u001b[0m \u001b[0;34m-\u001b[0m \u001b[0;36m0.25\u001b[0m \u001b[0;34m+\u001b[0m \u001b[0mself\u001b[0m\u001b[0;34m.\u001b[0m\u001b[0mlim_offset\u001b[0m\u001b[0;34m\u001b[0m\u001b[0;34m\u001b[0m\u001b[0m\n\u001b[0m\u001b[1;32m   1462\u001b[0m         \u001b[0me_edge\u001b[0m \u001b[0;34m=\u001b[0m \u001b[0mself\u001b[0m\u001b[0;34m.\u001b[0m\u001b[0max_pos\u001b[0m\u001b[0;34m[\u001b[0m\u001b[0;34m-\u001b[0m\u001b[0;36m1\u001b[0m\u001b[0;34m]\u001b[0m \u001b[0;34m+\u001b[0m \u001b[0;36m0.25\u001b[0m \u001b[0;34m+\u001b[0m \u001b[0mself\u001b[0m\u001b[0;34m.\u001b[0m\u001b[0mbar_width\u001b[0m \u001b[0;34m+\u001b[0m \u001b[0mself\u001b[0m\u001b[0;34m.\u001b[0m\u001b[0mlim_offset\u001b[0m\u001b[0;34m\u001b[0m\u001b[0;34m\u001b[0m\u001b[0m\n\u001b[1;32m   1463\u001b[0m \u001b[0;34m\u001b[0m\u001b[0m\n",
            "\u001b[0;31mIndexError\u001b[0m: index 0 is out of bounds for axis 0 with size 0"
          ]
        },
        {
          "output_type": "display_data",
          "data": {
            "image/png": "[encoded data removed]",
            "text/plain": [
              "<Figure size 1440x720 with 1 Axes>"
            ]
          },
          "metadata": {
            "needs_background": "light"
          }
        }
      ]
    },
    {
      "cell_type": "code",
      "source": [
        "df.isna().sum()"
      ],
      "metadata": {
        "colab": {
          "base_uri": "https://localhost:8080/"
        },
        "id": "TlZoB3tJObPk",
        "outputId": "0defca60-cdfb-45e5-fc79-874012099f79"
      },
      "execution_count": 6,
      "outputs": [
        {
          "output_type": "execute_result",
          "data": {
            "text/plain": [
              "MOBILE_NUMBER            0\n",
              "TIMESTAMP                0\n",
              "STATUS                   0\n",
              "CAUSE                    0\n",
              "LATENCY_MINUTES    2645675\n",
              "SMSTYPE                  0\n",
              "NUMBER_MESSAGES          0\n",
              "MESSAGE_TYPE             0\n",
              "MSG_DELIVERED      2645675\n",
              "dtype: int64"
            ]
          },
          "metadata": {},
          "execution_count": 6
        }
      ]
    },
    {
      "cell_type": "code",
      "source": [
        "df.CAUSE.value_counts()"
      ],
      "metadata": {
        "colab": {
          "base_uri": "https://localhost:8080/"
        },
        "id": "dX_QRtCfMiJE",
        "outputId": "e9f8272f-f58e-4d38-cae4-012259afa2af"
      },
      "execution_count": 5,
      "outputs": [
        {
          "output_type": "execute_result",
          "data": {
            "text/plain": [
              "Delivered                  15246595\n",
              "Number not reachable        4308155\n",
              "Operator System Failure      438275\n",
              "Template Blacklisted          39415\n",
              "Number Blocked                  273\n",
              "Number Blocked by User          259\n",
              "Template Not Found               10\n",
              "Name: CAUSE, dtype: int64"
            ]
          },
          "metadata": {},
          "execution_count": 5
        }
      ]
    },
    {
      "cell_type": "code",
      "source": [
        "df1=df.dropna()"
      ],
      "metadata": {
        "id": "acSbGwJUMwPq"
      },
      "execution_count": 7,
      "outputs": []
    },
    {
      "cell_type": "code",
      "source": [
        "df1.shape"
      ],
      "metadata": {
        "colab": {
          "base_uri": "https://localhost:8080/"
        },
        "id": "NvfKhPt7OtEW",
        "outputId": "c0044dcb-1743-429a-f43b-8c6a27b42779"
      },
      "execution_count": 8,
      "outputs": [
        {
          "output_type": "execute_result",
          "data": {
            "text/plain": [
              "(17387307, 9)"
            ]
          },
          "metadata": {},
          "execution_count": 8
        }
      ]
    },
    {
      "cell_type": "code",
      "source": [
        "df1.CAUSE.value_counts()"
      ],
      "metadata": {
        "colab": {
          "base_uri": "https://localhost:8080/"
        },
        "id": "r2TdSg0kOwT9",
        "outputId": "99c2ae85-d8e7-4633-af0f-f39420d33b6c"
      },
      "execution_count": 9,
      "outputs": [
        {
          "output_type": "execute_result",
          "data": {
            "text/plain": [
              "Delivered                  15246595\n",
              "Number not reachable        1872189\n",
              "Operator System Failure      237948\n",
              "Template Blacklisted          30307\n",
              "Number Blocked by User          259\n",
              "Template Not Found                9\n",
              "Name: CAUSE, dtype: int64"
            ]
          },
          "metadata": {},
          "execution_count": 9
        }
      ]
    },
    {
      "cell_type": "code",
      "source": [
        "#Saving final cleaned dataset\n",
        "df1.to_pickle('/content/drive/MyDrive/26Dec21/final_cleaned_data')"
      ],
      "metadata": {
        "id": "L26hh1uKOzI3"
      },
      "execution_count": 10,
      "outputs": []
    },
    {
      "cell_type": "code",
      "source": [
        "df1.info()"
      ],
      "metadata": {
        "colab": {
          "base_uri": "https://localhost:8080/"
        },
        "id": "aP4st2m2QGTu",
        "outputId": "22840a3b-3e8f-41d2-a5c5-3970b2d867de"
      },
      "execution_count": 11,
      "outputs": [
        {
          "output_type": "stream",
          "name": "stdout",
          "text": [
            "<class 'pandas.core.frame.DataFrame'>\n",
            "Int64Index: 17387307 entries, 0 to 20189959\n",
            "Data columns (total 9 columns):\n",
            " #   Column           Dtype         \n",
            "---  ------           -----         \n",
            " 0   MOBILE_NUMBER    object        \n",
            " 1   TIMESTAMP        datetime64[ns]\n",
            " 2   STATUS           object        \n",
            " 3   CAUSE            object        \n",
            " 4   LATENCY_MINUTES  float64       \n",
            " 5   SMSTYPE          object        \n",
            " 6   NUMBER_MESSAGES  int64         \n",
            " 7   MESSAGE_TYPE     object        \n",
            " 8   MSG_DELIVERED    datetime64[ns]\n",
            "dtypes: datetime64[ns](2), float64(1), int64(1), object(5)\n",
            "memory usage: 1.3+ GB\n"
          ]
        }
      ]
    },
    {
      "cell_type": "code",
      "source": [
        "df1['MSG_DELIVERED']=df1['MSG_DELIVERED'].astype(str)"
      ],
      "metadata": {
        "colab": {
          "base_uri": "https://localhost:8080/"
        },
        "id": "uu5BHXEmQIdl",
        "outputId": "b2a96358-2e03-482a-ab6c-5ed3b1d75f1a"
      },
      "execution_count": 12,
      "outputs": [
        {
          "output_type": "stream",
          "name": "stderr",
          "text": [
            "/usr/local/lib/python3.7/dist-packages/ipykernel_launcher.py:1: SettingWithCopyWarning: \n",
            "A value is trying to be set on a copy of a slice from a DataFrame.\n",
            "Try using .loc[row_indexer,col_indexer] = value instead\n",
            "\n",
            "See the caveats in the documentation: https://pandas.pydata.org/pandas-docs/stable/user_guide/indexing.html#returning-a-view-versus-a-copy\n",
            "  \"\"\"Entry point for launching an IPython kernel.\n"
          ]
        }
      ]
    },
    {
      "cell_type": "code",
      "source": [
        "df1.info()"
      ],
      "metadata": {
        "colab": {
          "base_uri": "https://localhost:8080/"
        },
        "id": "KQy7C_z8QRZ8",
        "outputId": "fdbfbd7e-68ac-4b3d-d85a-7f2de0e7ee13"
      },
      "execution_count": 13,
      "outputs": [
        {
          "output_type": "stream",
          "name": "stdout",
          "text": [
            "<class 'pandas.core.frame.DataFrame'>\n",
            "Int64Index: 17387307 entries, 0 to 20189959\n",
            "Data columns (total 9 columns):\n",
            " #   Column           Dtype         \n",
            "---  ------           -----         \n",
            " 0   MOBILE_NUMBER    object        \n",
            " 1   TIMESTAMP        datetime64[ns]\n",
            " 2   STATUS           object        \n",
            " 3   CAUSE            object        \n",
            " 4   LATENCY_MINUTES  float64       \n",
            " 5   SMSTYPE          object        \n",
            " 6   NUMBER_MESSAGES  int64         \n",
            " 7   MESSAGE_TYPE     object        \n",
            " 8   MSG_DELIVERED    object        \n",
            "dtypes: datetime64[ns](1), float64(1), int64(1), object(6)\n",
            "memory usage: 1.3+ GB\n"
          ]
        }
      ]
    },
    {
      "cell_type": "code",
      "source": [
        "import dateutil\n",
        "\n",
        "def get_part_of_day(hour):\n",
        "    return (\n",
        "        \"morning\" if 5 <= hour <= 11\n",
        "        else\n",
        "        \"afternoon\" if 12 <= hour <= 17\n",
        "        else\n",
        "        \"evening\" if 18 <= hour <= 22\n",
        "        else\n",
        "        \"night\"\n",
        "    )\n"
      ],
      "metadata": {
        "id": "iQNL9R_xO_3C"
      },
      "execution_count": 14,
      "outputs": []
    },
    {
      "cell_type": "code",
      "source": [
        "df1['part_of_day'] = df1.MSG_DELIVERED.apply(lambda x: get_part_of_day(dateutil.parser.parse(x).hour))"
      ],
      "metadata": {
        "colab": {
          "base_uri": "https://localhost:8080/"
        },
        "id": "Jdb_KBjCPaqT",
        "outputId": "cc2164a0-4dc9-436a-ab61-a49c4d9c7ed0"
      },
      "execution_count": 15,
      "outputs": [
        {
          "output_type": "stream",
          "name": "stderr",
          "text": [
            "/usr/local/lib/python3.7/dist-packages/ipykernel_launcher.py:1: SettingWithCopyWarning: \n",
            "A value is trying to be set on a copy of a slice from a DataFrame.\n",
            "Try using .loc[row_indexer,col_indexer] = value instead\n",
            "\n",
            "See the caveats in the documentation: https://pandas.pydata.org/pandas-docs/stable/user_guide/indexing.html#returning-a-view-versus-a-copy\n",
            "  \"\"\"Entry point for launching an IPython kernel.\n"
          ]
        }
      ]
    },
    {
      "cell_type": "code",
      "source": [
        "#Saving final cleaned dataset\n",
        "df1.to_pickle('/content/drive/MyDrive/26Dec21/final_cleaned_data')"
      ],
      "metadata": {
        "id": "uKBMdehwWSly"
      },
      "execution_count": 17,
      "outputs": []
    },
    {
      "cell_type": "code",
      "source": [
        ""
      ],
      "metadata": {
        "id": "tyuCce4hh28i"
      },
      "execution_count": null,
      "outputs": []
    },
    {
      "cell_type": "code",
      "source": [
        "import pandas as pd\n",
        "df1= pd.read_pickle('/content/drive/MyDrive/26Dec21/final_cleaned_data')"
      ],
      "metadata": {
        "id": "1hJV1Rr_h0Md"
      },
      "execution_count": 1,
      "outputs": []
    },
    {
      "cell_type": "code",
      "source": [
        "df1.head()"
      ],
      "metadata": {
        "colab": {
          "base_uri": "https://localhost:8080/",
          "height": 357
        },
        "id": "23Mv2Jw7Pll9",
        "outputId": "62bef9a0-9a88-4ae2-f2c9-9b87859e35cf"
      },
      "execution_count": 14,
      "outputs": [
        {
          "output_type": "execute_result",
          "data": {
            "text/html": [
              "\n",
              "  <div id=\"df-6e440e0d-192f-42b1-bb5c-91fec4275f14\">\n",
              "    <div class=\"colab-df-container\">\n",
              "      <div>\n",
              "<style scoped>\n",
              "    .dataframe tbody tr th:only-of-type {\n",
              "        vertical-align: middle;\n",
              "    }\n",
              "\n",
              "    .dataframe tbody tr th {\n",
              "        vertical-align: top;\n",
              "    }\n",
              "\n",
              "    .dataframe thead th {\n",
              "        text-align: right;\n",
              "    }\n",
              "</style>\n",
              "<table border=\"1\" class=\"dataframe\">\n",
              "  <thead>\n",
              "    <tr style=\"text-align: right;\">\n",
              "      <th></th>\n",
              "      <th>MOBILE_NUMBER</th>\n",
              "      <th>TIMESTAMP</th>\n",
              "      <th>STATUS</th>\n",
              "      <th>CAUSE</th>\n",
              "      <th>LATENCY_MINUTES</th>\n",
              "      <th>SMSTYPE</th>\n",
              "      <th>NUMBER_MESSAGES</th>\n",
              "      <th>MESSAGE_TYPE</th>\n",
              "      <th>MSG_DELIVERED</th>\n",
              "      <th>part_of_day</th>\n",
              "      <th>Week_Number</th>\n",
              "    </tr>\n",
              "  </thead>\n",
              "  <tbody>\n",
              "    <tr>\n",
              "      <th>0</th>\n",
              "      <td>9958839124</td>\n",
              "      <td>2021-06-05 16:03:31</td>\n",
              "      <td>Delivered</td>\n",
              "      <td>Delivered</td>\n",
              "      <td>0.0</td>\n",
              "      <td>TEXT</td>\n",
              "      <td>1</td>\n",
              "      <td>OTP</td>\n",
              "      <td>2021-06-05 16:03:31.000000000</td>\n",
              "      <td>afternoon</td>\n",
              "      <td>22</td>\n",
              "    </tr>\n",
              "    <tr>\n",
              "      <th>1</th>\n",
              "      <td>6204839638</td>\n",
              "      <td>2021-06-05 20:41:57</td>\n",
              "      <td>Delivered</td>\n",
              "      <td>Delivered</td>\n",
              "      <td>0.0</td>\n",
              "      <td>TEXT</td>\n",
              "      <td>1</td>\n",
              "      <td>OTP</td>\n",
              "      <td>2021-06-05 20:41:57.000000000</td>\n",
              "      <td>evening</td>\n",
              "      <td>22</td>\n",
              "    </tr>\n",
              "    <tr>\n",
              "      <th>2</th>\n",
              "      <td>6201108256</td>\n",
              "      <td>2021-06-05 20:41:57</td>\n",
              "      <td>Delivered</td>\n",
              "      <td>Delivered</td>\n",
              "      <td>0.0</td>\n",
              "      <td>TEXT</td>\n",
              "      <td>1</td>\n",
              "      <td>OTP</td>\n",
              "      <td>2021-06-05 20:41:57.000000000</td>\n",
              "      <td>evening</td>\n",
              "      <td>22</td>\n",
              "    </tr>\n",
              "    <tr>\n",
              "      <th>3</th>\n",
              "      <td>8435178035</td>\n",
              "      <td>2021-06-05 20:41:59</td>\n",
              "      <td>Delivered</td>\n",
              "      <td>Delivered</td>\n",
              "      <td>0.0</td>\n",
              "      <td>TEXT</td>\n",
              "      <td>1</td>\n",
              "      <td>OTP</td>\n",
              "      <td>2021-06-05 20:41:59.000000000</td>\n",
              "      <td>evening</td>\n",
              "      <td>22</td>\n",
              "    </tr>\n",
              "    <tr>\n",
              "      <th>4</th>\n",
              "      <td>8435178035</td>\n",
              "      <td>2021-06-05 20:42:00</td>\n",
              "      <td>Delivered</td>\n",
              "      <td>Delivered</td>\n",
              "      <td>0.1</td>\n",
              "      <td>TEXT</td>\n",
              "      <td>1</td>\n",
              "      <td>OTP</td>\n",
              "      <td>2021-06-05 20:42:06.000000000</td>\n",
              "      <td>evening</td>\n",
              "      <td>22</td>\n",
              "    </tr>\n",
              "  </tbody>\n",
              "</table>\n",
              "</div>\n",
              "      <button class=\"colab-df-convert\" onclick=\"convertToInteractive('df-6e440e0d-192f-42b1-bb5c-91fec4275f14')\"\n",
              "              title=\"Convert this dataframe to an interactive table.\"\n",
              "              style=\"display:none;\">\n",
              "        \n",
              "  <svg xmlns=\"http://www.w3.org/2000/svg\" height=\"24px\"viewBox=\"0 0 24 24\"\n",
              "       width=\"24px\">\n",
              "    <path d=\"M0 0h24v24H0V0z\" fill=\"none\"/>\n",
              "    <path d=\"M18.56 5.44l.94 2.06.94-2.06 2.06-.94-2.06-.94-.94-2.06-.94 2.06-2.06.94zm-11 1L8.5 8.5l.94-2.06 2.06-.94-2.06-.94L8.5 2.5l-.94 2.06-2.06.94zm10 10l.94 2.06.94-2.06 2.06-.94-2.06-.94-.94-2.06-.94 2.06-2.06.94z\"/><path d=\"M17.41 7.96l-1.37-1.37c-.4-.4-.92-.59-1.43-.59-.52 0-1.04.2-1.43.59L10.3 9.45l-7.72 7.72c-.78.78-.78 2.05 0 2.83L4 21.41c.39.39.9.59 1.41.59.51 0 1.02-.2 1.41-.59l7.78-7.78 2.81-2.81c.8-.78.8-2.07 0-2.86zM5.41 20L4 18.59l7.72-7.72 1.47 1.35L5.41 20z\"/>\n",
              "  </svg>\n",
              "      </button>\n",
              "      \n",
              "  <style>\n",
              "    .colab-df-container {\n",
              "      display:flex;\n",
              "      flex-wrap:wrap;\n",
              "      gap: 12px;\n",
              "    }\n",
              "\n",
              "    .colab-df-convert {\n",
              "      background-color: #E8F0FE;\n",
              "      border: none;\n",
              "      border-radius: 50%;\n",
              "      cursor: pointer;\n",
              "      display: none;\n",
              "      fill: #1967D2;\n",
              "      height: 32px;\n",
              "      padding: 0 0 0 0;\n",
              "      width: 32px;\n",
              "    }\n",
              "\n",
              "    .colab-df-convert:hover {\n",
              "      background-color: #E2EBFA;\n",
              "      box-shadow: 0px 1px 2px rgba(60, 64, 67, 0.3), 0px 1px 3px 1px rgba(60, 64, 67, 0.15);\n",
              "      fill: #174EA6;\n",
              "    }\n",
              "\n",
              "    [theme=dark] .colab-df-convert {\n",
              "      background-color: #3B4455;\n",
              "      fill: #D2E3FC;\n",
              "    }\n",
              "\n",
              "    [theme=dark] .colab-df-convert:hover {\n",
              "      background-color: #434B5C;\n",
              "      box-shadow: 0px 1px 3px 1px rgba(0, 0, 0, 0.15);\n",
              "      filter: drop-shadow(0px 1px 2px rgba(0, 0, 0, 0.3));\n",
              "      fill: #FFFFFF;\n",
              "    }\n",
              "  </style>\n",
              "\n",
              "      <script>\n",
              "        const buttonEl =\n",
              "          document.querySelector('#df-6e440e0d-192f-42b1-bb5c-91fec4275f14 button.colab-df-convert');\n",
              "        buttonEl.style.display =\n",
              "          google.colab.kernel.accessAllowed ? 'block' : 'none';\n",
              "\n",
              "        async function convertToInteractive(key) {\n",
              "          const element = document.querySelector('#df-6e440e0d-192f-42b1-bb5c-91fec4275f14');\n",
              "          const dataTable =\n",
              "            await google.colab.kernel.invokeFunction('convertToInteractive',\n",
              "                                                     [key], {});\n",
              "          if (!dataTable) return;\n",
              "\n",
              "          const docLinkHtml = 'Like what you see? Visit the ' +\n",
              "            '<a target=\"_blank\" href=https://colab.research.google.com/notebooks/data_table.ipynb>data table notebook</a>'\n",
              "            + ' to learn more about interactive tables.';\n",
              "          element.innerHTML = '';\n",
              "          dataTable['output_type'] = 'display_data';\n",
              "          await google.colab.output.renderOutput(dataTable, element);\n",
              "          const docLink = document.createElement('div');\n",
              "          docLink.innerHTML = docLinkHtml;\n",
              "          element.appendChild(docLink);\n",
              "        }\n",
              "      </script>\n",
              "    </div>\n",
              "  </div>\n",
              "  "
            ],
            "text/plain": [
              "  MOBILE_NUMBER           TIMESTAMP  ... part_of_day Week_Number\n",
              "0    9958839124 2021-06-05 16:03:31  ...   afternoon          22\n",
              "1    6204839638 2021-06-05 20:41:57  ...     evening          22\n",
              "2    6201108256 2021-06-05 20:41:57  ...     evening          22\n",
              "3    8435178035 2021-06-05 20:41:59  ...     evening          22\n",
              "4    8435178035 2021-06-05 20:42:00  ...     evening          22\n",
              "\n",
              "[5 rows x 11 columns]"
            ]
          },
          "metadata": {},
          "execution_count": 14
        }
      ]
    },
    {
      "cell_type": "code",
      "source": [
        "df1.part_of_day.value_counts()"
      ],
      "metadata": {
        "colab": {
          "base_uri": "https://localhost:8080/"
        },
        "id": "cQZ0zALkWXdZ",
        "outputId": "27d957e4-7927-4286-fbbf-0473b4c306e2"
      },
      "execution_count": 18,
      "outputs": [
        {
          "output_type": "execute_result",
          "data": {
            "text/plain": [
              "afternoon    9475840\n",
              "evening      6727818\n",
              "morning       702614\n",
              "night         481035\n",
              "Name: part_of_day, dtype: int64"
            ]
          },
          "metadata": {},
          "execution_count": 18
        }
      ]
    },
    {
      "cell_type": "code",
      "source": [
        "df1.tail()"
      ],
      "metadata": {
        "colab": {
          "base_uri": "https://localhost:8080/",
          "height": 357
        },
        "id": "2BW9c6U6eMcM",
        "outputId": "dfa73956-3798-40de-fe69-318ec2e91ba5"
      },
      "execution_count": 19,
      "outputs": [
        {
          "output_type": "execute_result",
          "data": {
            "text/html": [
              "\n",
              "  <div id=\"df-33a9b62e-276f-4c1c-bf11-0600f59f999a\">\n",
              "    <div class=\"colab-df-container\">\n",
              "      <div>\n",
              "<style scoped>\n",
              "    .dataframe tbody tr th:only-of-type {\n",
              "        vertical-align: middle;\n",
              "    }\n",
              "\n",
              "    .dataframe tbody tr th {\n",
              "        vertical-align: top;\n",
              "    }\n",
              "\n",
              "    .dataframe thead th {\n",
              "        text-align: right;\n",
              "    }\n",
              "</style>\n",
              "<table border=\"1\" class=\"dataframe\">\n",
              "  <thead>\n",
              "    <tr style=\"text-align: right;\">\n",
              "      <th></th>\n",
              "      <th>MOBILE_NUMBER</th>\n",
              "      <th>TIMESTAMP</th>\n",
              "      <th>STATUS</th>\n",
              "      <th>CAUSE</th>\n",
              "      <th>LATENCY_MINUTES</th>\n",
              "      <th>SMSTYPE</th>\n",
              "      <th>NUMBER_MESSAGES</th>\n",
              "      <th>MESSAGE_TYPE</th>\n",
              "      <th>MSG_DELIVERED</th>\n",
              "      <th>part_of_day</th>\n",
              "    </tr>\n",
              "  </thead>\n",
              "  <tbody>\n",
              "    <tr>\n",
              "      <th>20189955</th>\n",
              "      <td>9420243613</td>\n",
              "      <td>2021-11-25 16:20:43</td>\n",
              "      <td>Delivered</td>\n",
              "      <td>Delivered</td>\n",
              "      <td>3.2</td>\n",
              "      <td>TEXT</td>\n",
              "      <td>2</td>\n",
              "      <td>CIBIL OVERDUE</td>\n",
              "      <td>2021-11-25 16:23:55.000000000</td>\n",
              "      <td>afternoon</td>\n",
              "    </tr>\n",
              "    <tr>\n",
              "      <th>20189956</th>\n",
              "      <td>9420243613</td>\n",
              "      <td>2021-11-25 16:40:34</td>\n",
              "      <td>Delivered</td>\n",
              "      <td>Delivered</td>\n",
              "      <td>23.1</td>\n",
              "      <td>TEXT</td>\n",
              "      <td>2</td>\n",
              "      <td>CIBIL OVERDUE</td>\n",
              "      <td>2021-11-25 17:03:40.000000000</td>\n",
              "      <td>afternoon</td>\n",
              "    </tr>\n",
              "    <tr>\n",
              "      <th>20189957</th>\n",
              "      <td>9420243613</td>\n",
              "      <td>2021-11-25 16:27:52</td>\n",
              "      <td>Delivered</td>\n",
              "      <td>Delivered</td>\n",
              "      <td>10.3</td>\n",
              "      <td>TEXT</td>\n",
              "      <td>2</td>\n",
              "      <td>CIBIL OVERDUE</td>\n",
              "      <td>2021-11-25 16:38:10.000000000</td>\n",
              "      <td>afternoon</td>\n",
              "    </tr>\n",
              "    <tr>\n",
              "      <th>20189958</th>\n",
              "      <td>8595716066</td>\n",
              "      <td>2021-11-25 17:33:01</td>\n",
              "      <td>Delivered</td>\n",
              "      <td>Delivered</td>\n",
              "      <td>10.8</td>\n",
              "      <td>TEXT</td>\n",
              "      <td>1</td>\n",
              "      <td>OTP</td>\n",
              "      <td>2021-11-25 17:43:49.000000000</td>\n",
              "      <td>afternoon</td>\n",
              "    </tr>\n",
              "    <tr>\n",
              "      <th>20189959</th>\n",
              "      <td>7260090467</td>\n",
              "      <td>2021-11-25 18:52:23</td>\n",
              "      <td>Delivered</td>\n",
              "      <td>Delivered</td>\n",
              "      <td>17.7</td>\n",
              "      <td>TEXT</td>\n",
              "      <td>1</td>\n",
              "      <td>OTP</td>\n",
              "      <td>2021-11-25 19:10:05.000000000</td>\n",
              "      <td>evening</td>\n",
              "    </tr>\n",
              "  </tbody>\n",
              "</table>\n",
              "</div>\n",
              "      <button class=\"colab-df-convert\" onclick=\"convertToInteractive('df-33a9b62e-276f-4c1c-bf11-0600f59f999a')\"\n",
              "              title=\"Convert this dataframe to an interactive table.\"\n",
              "              style=\"display:none;\">\n",
              "        \n",
              "  <svg xmlns=\"http://www.w3.org/2000/svg\" height=\"24px\"viewBox=\"0 0 24 24\"\n",
              "       width=\"24px\">\n",
              "    <path d=\"M0 0h24v24H0V0z\" fill=\"none\"/>\n",
              "    <path d=\"M18.56 5.44l.94 2.06.94-2.06 2.06-.94-2.06-.94-.94-2.06-.94 2.06-2.06.94zm-11 1L8.5 8.5l.94-2.06 2.06-.94-2.06-.94L8.5 2.5l-.94 2.06-2.06.94zm10 10l.94 2.06.94-2.06 2.06-.94-2.06-.94-.94-2.06-.94 2.06-2.06.94z\"/><path d=\"M17.41 7.96l-1.37-1.37c-.4-.4-.92-.59-1.43-.59-.52 0-1.04.2-1.43.59L10.3 9.45l-7.72 7.72c-.78.78-.78 2.05 0 2.83L4 21.41c.39.39.9.59 1.41.59.51 0 1.02-.2 1.41-.59l7.78-7.78 2.81-2.81c.8-.78.8-2.07 0-2.86zM5.41 20L4 18.59l7.72-7.72 1.47 1.35L5.41 20z\"/>\n",
              "  </svg>\n",
              "      </button>\n",
              "      \n",
              "  <style>\n",
              "    .colab-df-container {\n",
              "      display:flex;\n",
              "      flex-wrap:wrap;\n",
              "      gap: 12px;\n",
              "    }\n",
              "\n",
              "    .colab-df-convert {\n",
              "      background-color: #E8F0FE;\n",
              "      border: none;\n",
              "      border-radius: 50%;\n",
              "      cursor: pointer;\n",
              "      display: none;\n",
              "      fill: #1967D2;\n",
              "      height: 32px;\n",
              "      padding: 0 0 0 0;\n",
              "      width: 32px;\n",
              "    }\n",
              "\n",
              "    .colab-df-convert:hover {\n",
              "      background-color: #E2EBFA;\n",
              "      box-shadow: 0px 1px 2px rgba(60, 64, 67, 0.3), 0px 1px 3px 1px rgba(60, 64, 67, 0.15);\n",
              "      fill: #174EA6;\n",
              "    }\n",
              "\n",
              "    [theme=dark] .colab-df-convert {\n",
              "      background-color: #3B4455;\n",
              "      fill: #D2E3FC;\n",
              "    }\n",
              "\n",
              "    [theme=dark] .colab-df-convert:hover {\n",
              "      background-color: #434B5C;\n",
              "      box-shadow: 0px 1px 3px 1px rgba(0, 0, 0, 0.15);\n",
              "      filter: drop-shadow(0px 1px 2px rgba(0, 0, 0, 0.3));\n",
              "      fill: #FFFFFF;\n",
              "    }\n",
              "  </style>\n",
              "\n",
              "      <script>\n",
              "        const buttonEl =\n",
              "          document.querySelector('#df-33a9b62e-276f-4c1c-bf11-0600f59f999a button.colab-df-convert');\n",
              "        buttonEl.style.display =\n",
              "          google.colab.kernel.accessAllowed ? 'block' : 'none';\n",
              "\n",
              "        async function convertToInteractive(key) {\n",
              "          const element = document.querySelector('#df-33a9b62e-276f-4c1c-bf11-0600f59f999a');\n",
              "          const dataTable =\n",
              "            await google.colab.kernel.invokeFunction('convertToInteractive',\n",
              "                                                     [key], {});\n",
              "          if (!dataTable) return;\n",
              "\n",
              "          const docLinkHtml = 'Like what you see? Visit the ' +\n",
              "            '<a target=\"_blank\" href=https://colab.research.google.com/notebooks/data_table.ipynb>data table notebook</a>'\n",
              "            + ' to learn more about interactive tables.';\n",
              "          element.innerHTML = '';\n",
              "          dataTable['output_type'] = 'display_data';\n",
              "          await google.colab.output.renderOutput(dataTable, element);\n",
              "          const docLink = document.createElement('div');\n",
              "          docLink.innerHTML = docLinkHtml;\n",
              "          element.appendChild(docLink);\n",
              "        }\n",
              "      </script>\n",
              "    </div>\n",
              "  </div>\n",
              "  "
            ],
            "text/plain": [
              "         MOBILE_NUMBER  ... part_of_day\n",
              "20189955    9420243613  ...   afternoon\n",
              "20189956    9420243613  ...   afternoon\n",
              "20189957    9420243613  ...   afternoon\n",
              "20189958    8595716066  ...   afternoon\n",
              "20189959    7260090467  ...     evening\n",
              "\n",
              "[5 rows x 10 columns]"
            ]
          },
          "metadata": {},
          "execution_count": 19
        }
      ]
    },
    {
      "cell_type": "code",
      "source": [
        "df1['Week_Number'] = df1['TIMESTAMP'].dt.week"
      ],
      "metadata": {
        "colab": {
          "base_uri": "https://localhost:8080/"
        },
        "id": "CnnPsy8Gfpxp",
        "outputId": "b2b5da1b-54ba-4c46-f215-e3f8302b57cc"
      },
      "execution_count": 4,
      "outputs": [
        {
          "output_type": "stream",
          "name": "stderr",
          "text": [
            "/usr/local/lib/python3.7/dist-packages/ipykernel_launcher.py:1: FutureWarning: Series.dt.weekofyear and Series.dt.week have been deprecated.  Please use Series.dt.isocalendar().week instead.\n",
            "  \"\"\"Entry point for launching an IPython kernel.\n"
          ]
        }
      ]
    },
    {
      "cell_type": "code",
      "source": [
        "df1.head()"
      ],
      "metadata": {
        "colab": {
          "base_uri": "https://localhost:8080/",
          "height": 357
        },
        "id": "OZU4MvtygE6A",
        "outputId": "c179a0dc-4138-4dc9-91bb-1292e2a19672"
      },
      "execution_count": 5,
      "outputs": [
        {
          "output_type": "execute_result",
          "data": {
            "text/html": [
              "\n",
              "  <div id=\"df-35f403ac-b146-400d-8c4f-24a35b14de91\">\n",
              "    <div class=\"colab-df-container\">\n",
              "      <div>\n",
              "<style scoped>\n",
              "    .dataframe tbody tr th:only-of-type {\n",
              "        vertical-align: middle;\n",
              "    }\n",
              "\n",
              "    .dataframe tbody tr th {\n",
              "        vertical-align: top;\n",
              "    }\n",
              "\n",
              "    .dataframe thead th {\n",
              "        text-align: right;\n",
              "    }\n",
              "</style>\n",
              "<table border=\"1\" class=\"dataframe\">\n",
              "  <thead>\n",
              "    <tr style=\"text-align: right;\">\n",
              "      <th></th>\n",
              "      <th>MOBILE_NUMBER</th>\n",
              "      <th>TIMESTAMP</th>\n",
              "      <th>STATUS</th>\n",
              "      <th>CAUSE</th>\n",
              "      <th>LATENCY_MINUTES</th>\n",
              "      <th>SMSTYPE</th>\n",
              "      <th>NUMBER_MESSAGES</th>\n",
              "      <th>MESSAGE_TYPE</th>\n",
              "      <th>MSG_DELIVERED</th>\n",
              "      <th>part_of_day</th>\n",
              "      <th>Week_Number</th>\n",
              "    </tr>\n",
              "  </thead>\n",
              "  <tbody>\n",
              "    <tr>\n",
              "      <th>0</th>\n",
              "      <td>9958839124</td>\n",
              "      <td>2021-06-05 16:03:31</td>\n",
              "      <td>Delivered</td>\n",
              "      <td>Delivered</td>\n",
              "      <td>0.0</td>\n",
              "      <td>TEXT</td>\n",
              "      <td>1</td>\n",
              "      <td>OTP</td>\n",
              "      <td>2021-06-05 16:03:31.000000000</td>\n",
              "      <td>afternoon</td>\n",
              "      <td>22</td>\n",
              "    </tr>\n",
              "    <tr>\n",
              "      <th>1</th>\n",
              "      <td>6204839638</td>\n",
              "      <td>2021-06-05 20:41:57</td>\n",
              "      <td>Delivered</td>\n",
              "      <td>Delivered</td>\n",
              "      <td>0.0</td>\n",
              "      <td>TEXT</td>\n",
              "      <td>1</td>\n",
              "      <td>OTP</td>\n",
              "      <td>2021-06-05 20:41:57.000000000</td>\n",
              "      <td>evening</td>\n",
              "      <td>22</td>\n",
              "    </tr>\n",
              "    <tr>\n",
              "      <th>2</th>\n",
              "      <td>6201108256</td>\n",
              "      <td>2021-06-05 20:41:57</td>\n",
              "      <td>Delivered</td>\n",
              "      <td>Delivered</td>\n",
              "      <td>0.0</td>\n",
              "      <td>TEXT</td>\n",
              "      <td>1</td>\n",
              "      <td>OTP</td>\n",
              "      <td>2021-06-05 20:41:57.000000000</td>\n",
              "      <td>evening</td>\n",
              "      <td>22</td>\n",
              "    </tr>\n",
              "    <tr>\n",
              "      <th>3</th>\n",
              "      <td>8435178035</td>\n",
              "      <td>2021-06-05 20:41:59</td>\n",
              "      <td>Delivered</td>\n",
              "      <td>Delivered</td>\n",
              "      <td>0.0</td>\n",
              "      <td>TEXT</td>\n",
              "      <td>1</td>\n",
              "      <td>OTP</td>\n",
              "      <td>2021-06-05 20:41:59.000000000</td>\n",
              "      <td>evening</td>\n",
              "      <td>22</td>\n",
              "    </tr>\n",
              "    <tr>\n",
              "      <th>4</th>\n",
              "      <td>8435178035</td>\n",
              "      <td>2021-06-05 20:42:00</td>\n",
              "      <td>Delivered</td>\n",
              "      <td>Delivered</td>\n",
              "      <td>0.1</td>\n",
              "      <td>TEXT</td>\n",
              "      <td>1</td>\n",
              "      <td>OTP</td>\n",
              "      <td>2021-06-05 20:42:06.000000000</td>\n",
              "      <td>evening</td>\n",
              "      <td>22</td>\n",
              "    </tr>\n",
              "  </tbody>\n",
              "</table>\n",
              "</div>\n",
              "      <button class=\"colab-df-convert\" onclick=\"convertToInteractive('df-35f403ac-b146-400d-8c4f-24a35b14de91')\"\n",
              "              title=\"Convert this dataframe to an interactive table.\"\n",
              "              style=\"display:none;\">\n",
              "        \n",
              "  <svg xmlns=\"http://www.w3.org/2000/svg\" height=\"24px\"viewBox=\"0 0 24 24\"\n",
              "       width=\"24px\">\n",
              "    <path d=\"M0 0h24v24H0V0z\" fill=\"none\"/>\n",
              "    <path d=\"M18.56 5.44l.94 2.06.94-2.06 2.06-.94-2.06-.94-.94-2.06-.94 2.06-2.06.94zm-11 1L8.5 8.5l.94-2.06 2.06-.94-2.06-.94L8.5 2.5l-.94 2.06-2.06.94zm10 10l.94 2.06.94-2.06 2.06-.94-2.06-.94-.94-2.06-.94 2.06-2.06.94z\"/><path d=\"M17.41 7.96l-1.37-1.37c-.4-.4-.92-.59-1.43-.59-.52 0-1.04.2-1.43.59L10.3 9.45l-7.72 7.72c-.78.78-.78 2.05 0 2.83L4 21.41c.39.39.9.59 1.41.59.51 0 1.02-.2 1.41-.59l7.78-7.78 2.81-2.81c.8-.78.8-2.07 0-2.86zM5.41 20L4 18.59l7.72-7.72 1.47 1.35L5.41 20z\"/>\n",
              "  </svg>\n",
              "      </button>\n",
              "      \n",
              "  <style>\n",
              "    .colab-df-container {\n",
              "      display:flex;\n",
              "      flex-wrap:wrap;\n",
              "      gap: 12px;\n",
              "    }\n",
              "\n",
              "    .colab-df-convert {\n",
              "      background-color: #E8F0FE;\n",
              "      border: none;\n",
              "      border-radius: 50%;\n",
              "      cursor: pointer;\n",
              "      display: none;\n",
              "      fill: #1967D2;\n",
              "      height: 32px;\n",
              "      padding: 0 0 0 0;\n",
              "      width: 32px;\n",
              "    }\n",
              "\n",
              "    .colab-df-convert:hover {\n",
              "      background-color: #E2EBFA;\n",
              "      box-shadow: 0px 1px 2px rgba(60, 64, 67, 0.3), 0px 1px 3px 1px rgba(60, 64, 67, 0.15);\n",
              "      fill: #174EA6;\n",
              "    }\n",
              "\n",
              "    [theme=dark] .colab-df-convert {\n",
              "      background-color: #3B4455;\n",
              "      fill: #D2E3FC;\n",
              "    }\n",
              "\n",
              "    [theme=dark] .colab-df-convert:hover {\n",
              "      background-color: #434B5C;\n",
              "      box-shadow: 0px 1px 3px 1px rgba(0, 0, 0, 0.15);\n",
              "      filter: drop-shadow(0px 1px 2px rgba(0, 0, 0, 0.3));\n",
              "      fill: #FFFFFF;\n",
              "    }\n",
              "  </style>\n",
              "\n",
              "      <script>\n",
              "        const buttonEl =\n",
              "          document.querySelector('#df-35f403ac-b146-400d-8c4f-24a35b14de91 button.colab-df-convert');\n",
              "        buttonEl.style.display =\n",
              "          google.colab.kernel.accessAllowed ? 'block' : 'none';\n",
              "\n",
              "        async function convertToInteractive(key) {\n",
              "          const element = document.querySelector('#df-35f403ac-b146-400d-8c4f-24a35b14de91');\n",
              "          const dataTable =\n",
              "            await google.colab.kernel.invokeFunction('convertToInteractive',\n",
              "                                                     [key], {});\n",
              "          if (!dataTable) return;\n",
              "\n",
              "          const docLinkHtml = 'Like what you see? Visit the ' +\n",
              "            '<a target=\"_blank\" href=https://colab.research.google.com/notebooks/data_table.ipynb>data table notebook</a>'\n",
              "            + ' to learn more about interactive tables.';\n",
              "          element.innerHTML = '';\n",
              "          dataTable['output_type'] = 'display_data';\n",
              "          await google.colab.output.renderOutput(dataTable, element);\n",
              "          const docLink = document.createElement('div');\n",
              "          docLink.innerHTML = docLinkHtml;\n",
              "          element.appendChild(docLink);\n",
              "        }\n",
              "      </script>\n",
              "    </div>\n",
              "  </div>\n",
              "  "
            ],
            "text/plain": [
              "  MOBILE_NUMBER           TIMESTAMP  ... part_of_day Week_Number\n",
              "0    9958839124 2021-06-05 16:03:31  ...   afternoon          22\n",
              "1    6204839638 2021-06-05 20:41:57  ...     evening          22\n",
              "2    6201108256 2021-06-05 20:41:57  ...     evening          22\n",
              "3    8435178035 2021-06-05 20:41:59  ...     evening          22\n",
              "4    8435178035 2021-06-05 20:42:00  ...     evening          22\n",
              "\n",
              "[5 rows x 11 columns]"
            ]
          },
          "metadata": {},
          "execution_count": 5
        }
      ]
    },
    {
      "cell_type": "code",
      "source": [
        "df1.Week_Number.value_counts()"
      ],
      "metadata": {
        "colab": {
          "base_uri": "https://localhost:8080/"
        },
        "id": "bxcWMsVhgKCH",
        "outputId": "fa691b7d-3ce0-4cc0-b764-063d8e7522a9"
      },
      "execution_count": 6,
      "outputs": [
        {
          "output_type": "execute_result",
          "data": {
            "text/plain": [
              "41    1521918\n",
              "25    1374483\n",
              "44    1307914\n",
              "27    1121089\n",
              "36    1066321\n",
              "35    1035762\n",
              "39    1014412\n",
              "24     983248\n",
              "26     897309\n",
              "31     839257\n",
              "28     817477\n",
              "32     814115\n",
              "37     768078\n",
              "34     665568\n",
              "46     607704\n",
              "43     567834\n",
              "33     449513\n",
              "40     366778\n",
              "30     298464\n",
              "45     237887\n",
              "38     188824\n",
              "42     178895\n",
              "29     136620\n",
              "47     107449\n",
              "23      14487\n",
              "22       5901\n",
              "Name: Week_Number, dtype: int64"
            ]
          },
          "metadata": {},
          "execution_count": 6
        }
      ]
    },
    {
      "cell_type": "code",
      "source": [
        "df1.describe()"
      ],
      "metadata": {
        "colab": {
          "base_uri": "https://localhost:8080/",
          "height": 300
        },
        "id": "bOEFJeQ_gQxD",
        "outputId": "a3cd086b-e779-4b4d-ae60-8504abe6df1e"
      },
      "execution_count": 25,
      "outputs": [
        {
          "output_type": "execute_result",
          "data": {
            "text/html": [
              "\n",
              "  <div id=\"df-38605295-1bde-497f-91af-aae4a861d871\">\n",
              "    <div class=\"colab-df-container\">\n",
              "      <div>\n",
              "<style scoped>\n",
              "    .dataframe tbody tr th:only-of-type {\n",
              "        vertical-align: middle;\n",
              "    }\n",
              "\n",
              "    .dataframe tbody tr th {\n",
              "        vertical-align: top;\n",
              "    }\n",
              "\n",
              "    .dataframe thead th {\n",
              "        text-align: right;\n",
              "    }\n",
              "</style>\n",
              "<table border=\"1\" class=\"dataframe\">\n",
              "  <thead>\n",
              "    <tr style=\"text-align: right;\">\n",
              "      <th></th>\n",
              "      <th>LATENCY_MINUTES</th>\n",
              "      <th>NUMBER_MESSAGES</th>\n",
              "      <th>Week_Number</th>\n",
              "    </tr>\n",
              "  </thead>\n",
              "  <tbody>\n",
              "    <tr>\n",
              "      <th>count</th>\n",
              "      <td>1.738731e+07</td>\n",
              "      <td>1.738731e+07</td>\n",
              "      <td>1.738731e+07</td>\n",
              "    </tr>\n",
              "    <tr>\n",
              "      <th>mean</th>\n",
              "      <td>1.580413e+01</td>\n",
              "      <td>1.126418e+00</td>\n",
              "      <td>3.435914e+01</td>\n",
              "    </tr>\n",
              "    <tr>\n",
              "      <th>std</th>\n",
              "      <td>3.039317e+01</td>\n",
              "      <td>3.324072e-01</td>\n",
              "      <td>6.877081e+00</td>\n",
              "    </tr>\n",
              "    <tr>\n",
              "      <th>min</th>\n",
              "      <td>0.000000e+00</td>\n",
              "      <td>1.000000e+00</td>\n",
              "      <td>2.200000e+01</td>\n",
              "    </tr>\n",
              "    <tr>\n",
              "      <th>25%</th>\n",
              "      <td>3.800000e+00</td>\n",
              "      <td>1.000000e+00</td>\n",
              "      <td>2.700000e+01</td>\n",
              "    </tr>\n",
              "    <tr>\n",
              "      <th>50%</th>\n",
              "      <td>8.000000e+00</td>\n",
              "      <td>1.000000e+00</td>\n",
              "      <td>3.500000e+01</td>\n",
              "    </tr>\n",
              "    <tr>\n",
              "      <th>75%</th>\n",
              "      <td>1.650000e+01</td>\n",
              "      <td>1.000000e+00</td>\n",
              "      <td>4.100000e+01</td>\n",
              "    </tr>\n",
              "    <tr>\n",
              "      <th>max</th>\n",
              "      <td>7.098000e+02</td>\n",
              "      <td>3.000000e+00</td>\n",
              "      <td>4.700000e+01</td>\n",
              "    </tr>\n",
              "  </tbody>\n",
              "</table>\n",
              "</div>\n",
              "      <button class=\"colab-df-convert\" onclick=\"convertToInteractive('df-38605295-1bde-497f-91af-aae4a861d871')\"\n",
              "              title=\"Convert this dataframe to an interactive table.\"\n",
              "              style=\"display:none;\">\n",
              "        \n",
              "  <svg xmlns=\"http://www.w3.org/2000/svg\" height=\"24px\"viewBox=\"0 0 24 24\"\n",
              "       width=\"24px\">\n",
              "    <path d=\"M0 0h24v24H0V0z\" fill=\"none\"/>\n",
              "    <path d=\"M18.56 5.44l.94 2.06.94-2.06 2.06-.94-2.06-.94-.94-2.06-.94 2.06-2.06.94zm-11 1L8.5 8.5l.94-2.06 2.06-.94-2.06-.94L8.5 2.5l-.94 2.06-2.06.94zm10 10l.94 2.06.94-2.06 2.06-.94-2.06-.94-.94-2.06-.94 2.06-2.06.94z\"/><path d=\"M17.41 7.96l-1.37-1.37c-.4-.4-.92-.59-1.43-.59-.52 0-1.04.2-1.43.59L10.3 9.45l-7.72 7.72c-.78.78-.78 2.05 0 2.83L4 21.41c.39.39.9.59 1.41.59.51 0 1.02-.2 1.41-.59l7.78-7.78 2.81-2.81c.8-.78.8-2.07 0-2.86zM5.41 20L4 18.59l7.72-7.72 1.47 1.35L5.41 20z\"/>\n",
              "  </svg>\n",
              "      </button>\n",
              "      \n",
              "  <style>\n",
              "    .colab-df-container {\n",
              "      display:flex;\n",
              "      flex-wrap:wrap;\n",
              "      gap: 12px;\n",
              "    }\n",
              "\n",
              "    .colab-df-convert {\n",
              "      background-color: #E8F0FE;\n",
              "      border: none;\n",
              "      border-radius: 50%;\n",
              "      cursor: pointer;\n",
              "      display: none;\n",
              "      fill: #1967D2;\n",
              "      height: 32px;\n",
              "      padding: 0 0 0 0;\n",
              "      width: 32px;\n",
              "    }\n",
              "\n",
              "    .colab-df-convert:hover {\n",
              "      background-color: #E2EBFA;\n",
              "      box-shadow: 0px 1px 2px rgba(60, 64, 67, 0.3), 0px 1px 3px 1px rgba(60, 64, 67, 0.15);\n",
              "      fill: #174EA6;\n",
              "    }\n",
              "\n",
              "    [theme=dark] .colab-df-convert {\n",
              "      background-color: #3B4455;\n",
              "      fill: #D2E3FC;\n",
              "    }\n",
              "\n",
              "    [theme=dark] .colab-df-convert:hover {\n",
              "      background-color: #434B5C;\n",
              "      box-shadow: 0px 1px 3px 1px rgba(0, 0, 0, 0.15);\n",
              "      filter: drop-shadow(0px 1px 2px rgba(0, 0, 0, 0.3));\n",
              "      fill: #FFFFFF;\n",
              "    }\n",
              "  </style>\n",
              "\n",
              "      <script>\n",
              "        const buttonEl =\n",
              "          document.querySelector('#df-38605295-1bde-497f-91af-aae4a861d871 button.colab-df-convert');\n",
              "        buttonEl.style.display =\n",
              "          google.colab.kernel.accessAllowed ? 'block' : 'none';\n",
              "\n",
              "        async function convertToInteractive(key) {\n",
              "          const element = document.querySelector('#df-38605295-1bde-497f-91af-aae4a861d871');\n",
              "          const dataTable =\n",
              "            await google.colab.kernel.invokeFunction('convertToInteractive',\n",
              "                                                     [key], {});\n",
              "          if (!dataTable) return;\n",
              "\n",
              "          const docLinkHtml = 'Like what you see? Visit the ' +\n",
              "            '<a target=\"_blank\" href=https://colab.research.google.com/notebooks/data_table.ipynb>data table notebook</a>'\n",
              "            + ' to learn more about interactive tables.';\n",
              "          element.innerHTML = '';\n",
              "          dataTable['output_type'] = 'display_data';\n",
              "          await google.colab.output.renderOutput(dataTable, element);\n",
              "          const docLink = document.createElement('div');\n",
              "          docLink.innerHTML = docLinkHtml;\n",
              "          element.appendChild(docLink);\n",
              "        }\n",
              "      </script>\n",
              "    </div>\n",
              "  </div>\n",
              "  "
            ],
            "text/plain": [
              "       LATENCY_MINUTES  NUMBER_MESSAGES   Week_Number\n",
              "count     1.738731e+07     1.738731e+07  1.738731e+07\n",
              "mean      1.580413e+01     1.126418e+00  3.435914e+01\n",
              "std       3.039317e+01     3.324072e-01  6.877081e+00\n",
              "min       0.000000e+00     1.000000e+00  2.200000e+01\n",
              "25%       3.800000e+00     1.000000e+00  2.700000e+01\n",
              "50%       8.000000e+00     1.000000e+00  3.500000e+01\n",
              "75%       1.650000e+01     1.000000e+00  4.100000e+01\n",
              "max       7.098000e+02     3.000000e+00  4.700000e+01"
            ]
          },
          "metadata": {},
          "execution_count": 25
        }
      ]
    },
    {
      "cell_type": "code",
      "source": [
        "df1.shape"
      ],
      "metadata": {
        "colab": {
          "base_uri": "https://localhost:8080/"
        },
        "id": "A1JEPHRWgzMp",
        "outputId": "93e409c7-2288-494c-cbed-d175568a7c5c"
      },
      "execution_count": 2,
      "outputs": [
        {
          "output_type": "execute_result",
          "data": {
            "text/plain": [
              "(17387307, 11)"
            ]
          },
          "metadata": {},
          "execution_count": 2
        }
      ]
    },
    {
      "cell_type": "code",
      "source": [
        "# extract year, month, day and week of year from \"Date\"\n",
        "\n",
        "df1['MSG_DELIVERED']=pd.to_datetime(df1['MSG_DELIVERED'])\n",
        "df1['MONTH'] = df1['MSG_DELIVERED'].apply(lambda x: x.month)\n",
        "df1['DAY'] = df1['MSG_DELIVERED'].apply(lambda x: x.day)\n",
        "df1['WEEK_OF_YEAR'] = df1['MSG_DELIVERED'].apply(lambda x: x.weekofyear)"
      ],
      "metadata": {
        "id": "eiZlk0Xmg1mF"
      },
      "execution_count": 3,
      "outputs": []
    },
    {
      "cell_type": "code",
      "source": [
        "df1.head()"
      ],
      "metadata": {
        "colab": {
          "base_uri": "https://localhost:8080/",
          "height": 313
        },
        "id": "kN7F-S0DhtHo",
        "outputId": "72e625a7-2c78-47c0-ee93-c04638721a1c"
      },
      "execution_count": 4,
      "outputs": [
        {
          "output_type": "execute_result",
          "data": {
            "text/html": [
              "<div>\n",
              "<style scoped>\n",
              "    .dataframe tbody tr th:only-of-type {\n",
              "        vertical-align: middle;\n",
              "    }\n",
              "\n",
              "    .dataframe tbody tr th {\n",
              "        vertical-align: top;\n",
              "    }\n",
              "\n",
              "    .dataframe thead th {\n",
              "        text-align: right;\n",
              "    }\n",
              "</style>\n",
              "<table border=\"1\" class=\"dataframe\">\n",
              "  <thead>\n",
              "    <tr style=\"text-align: right;\">\n",
              "      <th></th>\n",
              "      <th>MOBILE_NUMBER</th>\n",
              "      <th>TIMESTAMP</th>\n",
              "      <th>STATUS</th>\n",
              "      <th>CAUSE</th>\n",
              "      <th>LATENCY_MINUTES</th>\n",
              "      <th>SMSTYPE</th>\n",
              "      <th>NUMBER_MESSAGES</th>\n",
              "      <th>MESSAGE_TYPE</th>\n",
              "      <th>MSG_DELIVERED</th>\n",
              "      <th>part_of_day</th>\n",
              "      <th>Week_Number</th>\n",
              "      <th>MONTH</th>\n",
              "      <th>DAY</th>\n",
              "      <th>WEEK_OF_YEAR</th>\n",
              "    </tr>\n",
              "  </thead>\n",
              "  <tbody>\n",
              "    <tr>\n",
              "      <th>0</th>\n",
              "      <td>9958839124</td>\n",
              "      <td>2021-06-05 16:03:31</td>\n",
              "      <td>Delivered</td>\n",
              "      <td>Delivered</td>\n",
              "      <td>0.0</td>\n",
              "      <td>TEXT</td>\n",
              "      <td>1</td>\n",
              "      <td>OTP</td>\n",
              "      <td>2021-06-05 16:03:31</td>\n",
              "      <td>afternoon</td>\n",
              "      <td>22</td>\n",
              "      <td>6</td>\n",
              "      <td>5</td>\n",
              "      <td>22</td>\n",
              "    </tr>\n",
              "    <tr>\n",
              "      <th>1</th>\n",
              "      <td>6204839638</td>\n",
              "      <td>2021-06-05 20:41:57</td>\n",
              "      <td>Delivered</td>\n",
              "      <td>Delivered</td>\n",
              "      <td>0.0</td>\n",
              "      <td>TEXT</td>\n",
              "      <td>1</td>\n",
              "      <td>OTP</td>\n",
              "      <td>2021-06-05 20:41:57</td>\n",
              "      <td>evening</td>\n",
              "      <td>22</td>\n",
              "      <td>6</td>\n",
              "      <td>5</td>\n",
              "      <td>22</td>\n",
              "    </tr>\n",
              "    <tr>\n",
              "      <th>2</th>\n",
              "      <td>6201108256</td>\n",
              "      <td>2021-06-05 20:41:57</td>\n",
              "      <td>Delivered</td>\n",
              "      <td>Delivered</td>\n",
              "      <td>0.0</td>\n",
              "      <td>TEXT</td>\n",
              "      <td>1</td>\n",
              "      <td>OTP</td>\n",
              "      <td>2021-06-05 20:41:57</td>\n",
              "      <td>evening</td>\n",
              "      <td>22</td>\n",
              "      <td>6</td>\n",
              "      <td>5</td>\n",
              "      <td>22</td>\n",
              "    </tr>\n",
              "    <tr>\n",
              "      <th>3</th>\n",
              "      <td>8435178035</td>\n",
              "      <td>2021-06-05 20:41:59</td>\n",
              "      <td>Delivered</td>\n",
              "      <td>Delivered</td>\n",
              "      <td>0.0</td>\n",
              "      <td>TEXT</td>\n",
              "      <td>1</td>\n",
              "      <td>OTP</td>\n",
              "      <td>2021-06-05 20:41:59</td>\n",
              "      <td>evening</td>\n",
              "      <td>22</td>\n",
              "      <td>6</td>\n",
              "      <td>5</td>\n",
              "      <td>22</td>\n",
              "    </tr>\n",
              "    <tr>\n",
              "      <th>4</th>\n",
              "      <td>8435178035</td>\n",
              "      <td>2021-06-05 20:42:00</td>\n",
              "      <td>Delivered</td>\n",
              "      <td>Delivered</td>\n",
              "      <td>0.1</td>\n",
              "      <td>TEXT</td>\n",
              "      <td>1</td>\n",
              "      <td>OTP</td>\n",
              "      <td>2021-06-05 20:42:06</td>\n",
              "      <td>evening</td>\n",
              "      <td>22</td>\n",
              "      <td>6</td>\n",
              "      <td>5</td>\n",
              "      <td>22</td>\n",
              "    </tr>\n",
              "  </tbody>\n",
              "</table>\n",
              "</div>"
            ],
            "text/plain": [
              "  MOBILE_NUMBER           TIMESTAMP     STATUS  ... MONTH  DAY WEEK_OF_YEAR\n",
              "0    9958839124 2021-06-05 16:03:31  Delivered  ...     6    5           22\n",
              "1    6204839638 2021-06-05 20:41:57  Delivered  ...     6    5           22\n",
              "2    6201108256 2021-06-05 20:41:57  Delivered  ...     6    5           22\n",
              "3    8435178035 2021-06-05 20:41:59  Delivered  ...     6    5           22\n",
              "4    8435178035 2021-06-05 20:42:00  Delivered  ...     6    5           22\n",
              "\n",
              "[5 rows x 14 columns]"
            ]
          },
          "metadata": {},
          "execution_count": 4
        }
      ]
    },
    {
      "cell_type": "code",
      "source": [
        "df1.drop('Week_Number', axis=1, inplace=True)"
      ],
      "metadata": {
        "id": "ma0pWEHkpDQi"
      },
      "execution_count": 5,
      "outputs": []
    },
    {
      "cell_type": "code",
      "source": [
        "df1.head()"
      ],
      "metadata": {
        "colab": {
          "base_uri": "https://localhost:8080/",
          "height": 313
        },
        "id": "bXf3efIupxvi",
        "outputId": "43c08e63-f00a-454a-e8c3-09c257c8adb9"
      },
      "execution_count": 7,
      "outputs": [
        {
          "output_type": "execute_result",
          "data": {
            "text/html": [
              "<div>\n",
              "<style scoped>\n",
              "    .dataframe tbody tr th:only-of-type {\n",
              "        vertical-align: middle;\n",
              "    }\n",
              "\n",
              "    .dataframe tbody tr th {\n",
              "        vertical-align: top;\n",
              "    }\n",
              "\n",
              "    .dataframe thead th {\n",
              "        text-align: right;\n",
              "    }\n",
              "</style>\n",
              "<table border=\"1\" class=\"dataframe\">\n",
              "  <thead>\n",
              "    <tr style=\"text-align: right;\">\n",
              "      <th></th>\n",
              "      <th>MOBILE_NUMBER</th>\n",
              "      <th>TIMESTAMP</th>\n",
              "      <th>STATUS</th>\n",
              "      <th>CAUSE</th>\n",
              "      <th>LATENCY_MINUTES</th>\n",
              "      <th>SMSTYPE</th>\n",
              "      <th>NUMBER_MESSAGES</th>\n",
              "      <th>MESSAGE_TYPE</th>\n",
              "      <th>MSG_DELIVERED</th>\n",
              "      <th>part_of_day</th>\n",
              "      <th>MONTH</th>\n",
              "      <th>DAY</th>\n",
              "      <th>WEEK_OF_YEAR</th>\n",
              "    </tr>\n",
              "  </thead>\n",
              "  <tbody>\n",
              "    <tr>\n",
              "      <th>0</th>\n",
              "      <td>9958839124</td>\n",
              "      <td>2021-06-05 16:03:31</td>\n",
              "      <td>Delivered</td>\n",
              "      <td>Delivered</td>\n",
              "      <td>0.0</td>\n",
              "      <td>TEXT</td>\n",
              "      <td>1</td>\n",
              "      <td>OTP</td>\n",
              "      <td>2021-06-05 16:03:31</td>\n",
              "      <td>afternoon</td>\n",
              "      <td>6</td>\n",
              "      <td>5</td>\n",
              "      <td>22</td>\n",
              "    </tr>\n",
              "    <tr>\n",
              "      <th>1</th>\n",
              "      <td>6204839638</td>\n",
              "      <td>2021-06-05 20:41:57</td>\n",
              "      <td>Delivered</td>\n",
              "      <td>Delivered</td>\n",
              "      <td>0.0</td>\n",
              "      <td>TEXT</td>\n",
              "      <td>1</td>\n",
              "      <td>OTP</td>\n",
              "      <td>2021-06-05 20:41:57</td>\n",
              "      <td>evening</td>\n",
              "      <td>6</td>\n",
              "      <td>5</td>\n",
              "      <td>22</td>\n",
              "    </tr>\n",
              "    <tr>\n",
              "      <th>2</th>\n",
              "      <td>6201108256</td>\n",
              "      <td>2021-06-05 20:41:57</td>\n",
              "      <td>Delivered</td>\n",
              "      <td>Delivered</td>\n",
              "      <td>0.0</td>\n",
              "      <td>TEXT</td>\n",
              "      <td>1</td>\n",
              "      <td>OTP</td>\n",
              "      <td>2021-06-05 20:41:57</td>\n",
              "      <td>evening</td>\n",
              "      <td>6</td>\n",
              "      <td>5</td>\n",
              "      <td>22</td>\n",
              "    </tr>\n",
              "    <tr>\n",
              "      <th>3</th>\n",
              "      <td>8435178035</td>\n",
              "      <td>2021-06-05 20:41:59</td>\n",
              "      <td>Delivered</td>\n",
              "      <td>Delivered</td>\n",
              "      <td>0.0</td>\n",
              "      <td>TEXT</td>\n",
              "      <td>1</td>\n",
              "      <td>OTP</td>\n",
              "      <td>2021-06-05 20:41:59</td>\n",
              "      <td>evening</td>\n",
              "      <td>6</td>\n",
              "      <td>5</td>\n",
              "      <td>22</td>\n",
              "    </tr>\n",
              "    <tr>\n",
              "      <th>4</th>\n",
              "      <td>8435178035</td>\n",
              "      <td>2021-06-05 20:42:00</td>\n",
              "      <td>Delivered</td>\n",
              "      <td>Delivered</td>\n",
              "      <td>0.1</td>\n",
              "      <td>TEXT</td>\n",
              "      <td>1</td>\n",
              "      <td>OTP</td>\n",
              "      <td>2021-06-05 20:42:06</td>\n",
              "      <td>evening</td>\n",
              "      <td>6</td>\n",
              "      <td>5</td>\n",
              "      <td>22</td>\n",
              "    </tr>\n",
              "  </tbody>\n",
              "</table>\n",
              "</div>"
            ],
            "text/plain": [
              "  MOBILE_NUMBER           TIMESTAMP     STATUS  ... MONTH  DAY WEEK_OF_YEAR\n",
              "0    9958839124 2021-06-05 16:03:31  Delivered  ...     6    5           22\n",
              "1    6204839638 2021-06-05 20:41:57  Delivered  ...     6    5           22\n",
              "2    6201108256 2021-06-05 20:41:57  Delivered  ...     6    5           22\n",
              "3    8435178035 2021-06-05 20:41:59  Delivered  ...     6    5           22\n",
              "4    8435178035 2021-06-05 20:42:00  Delivered  ...     6    5           22\n",
              "\n",
              "[5 rows x 13 columns]"
            ]
          },
          "metadata": {},
          "execution_count": 7
        }
      ]
    },
    {
      "cell_type": "code",
      "source": [
        "#Saving final cleaned dataset\n",
        "df1.to_pickle('/content/drive/MyDrive/26Dec21/final_cleaned_data')"
      ],
      "metadata": {
        "id": "jX5QrqvaiZkE"
      },
      "execution_count": 26,
      "outputs": []
    },
    {
      "cell_type": "code",
      "source": [
        "df1.head(4)"
      ],
      "metadata": {
        "colab": {
          "base_uri": "https://localhost:8080/",
          "height": 264
        },
        "id": "Bk2KA_RXoDTq",
        "outputId": "f49ca8cc-f1d0-4f80-9bb3-8768f5a0b2cf"
      },
      "execution_count": 9,
      "outputs": [
        {
          "output_type": "execute_result",
          "data": {
            "text/html": [
              "<div>\n",
              "<style scoped>\n",
              "    .dataframe tbody tr th:only-of-type {\n",
              "        vertical-align: middle;\n",
              "    }\n",
              "\n",
              "    .dataframe tbody tr th {\n",
              "        vertical-align: top;\n",
              "    }\n",
              "\n",
              "    .dataframe thead th {\n",
              "        text-align: right;\n",
              "    }\n",
              "</style>\n",
              "<table border=\"1\" class=\"dataframe\">\n",
              "  <thead>\n",
              "    <tr style=\"text-align: right;\">\n",
              "      <th></th>\n",
              "      <th>MOBILE_NUMBER</th>\n",
              "      <th>TIMESTAMP</th>\n",
              "      <th>STATUS</th>\n",
              "      <th>CAUSE</th>\n",
              "      <th>LATENCY_MINUTES</th>\n",
              "      <th>SMSTYPE</th>\n",
              "      <th>NUMBER_MESSAGES</th>\n",
              "      <th>MESSAGE_TYPE</th>\n",
              "      <th>MSG_DELIVERED</th>\n",
              "      <th>part_of_day</th>\n",
              "      <th>MONTH</th>\n",
              "      <th>DAY</th>\n",
              "      <th>WEEK_OF_YEAR</th>\n",
              "    </tr>\n",
              "  </thead>\n",
              "  <tbody>\n",
              "    <tr>\n",
              "      <th>0</th>\n",
              "      <td>9958839124</td>\n",
              "      <td>2021-06-05 16:03:31</td>\n",
              "      <td>Delivered</td>\n",
              "      <td>Delivered</td>\n",
              "      <td>0.0</td>\n",
              "      <td>TEXT</td>\n",
              "      <td>1</td>\n",
              "      <td>OTP</td>\n",
              "      <td>2021-06-05 16:03:31</td>\n",
              "      <td>afternoon</td>\n",
              "      <td>6</td>\n",
              "      <td>5</td>\n",
              "      <td>22</td>\n",
              "    </tr>\n",
              "    <tr>\n",
              "      <th>1</th>\n",
              "      <td>6204839638</td>\n",
              "      <td>2021-06-05 20:41:57</td>\n",
              "      <td>Delivered</td>\n",
              "      <td>Delivered</td>\n",
              "      <td>0.0</td>\n",
              "      <td>TEXT</td>\n",
              "      <td>1</td>\n",
              "      <td>OTP</td>\n",
              "      <td>2021-06-05 20:41:57</td>\n",
              "      <td>evening</td>\n",
              "      <td>6</td>\n",
              "      <td>5</td>\n",
              "      <td>22</td>\n",
              "    </tr>\n",
              "    <tr>\n",
              "      <th>2</th>\n",
              "      <td>6201108256</td>\n",
              "      <td>2021-06-05 20:41:57</td>\n",
              "      <td>Delivered</td>\n",
              "      <td>Delivered</td>\n",
              "      <td>0.0</td>\n",
              "      <td>TEXT</td>\n",
              "      <td>1</td>\n",
              "      <td>OTP</td>\n",
              "      <td>2021-06-05 20:41:57</td>\n",
              "      <td>evening</td>\n",
              "      <td>6</td>\n",
              "      <td>5</td>\n",
              "      <td>22</td>\n",
              "    </tr>\n",
              "    <tr>\n",
              "      <th>3</th>\n",
              "      <td>8435178035</td>\n",
              "      <td>2021-06-05 20:41:59</td>\n",
              "      <td>Delivered</td>\n",
              "      <td>Delivered</td>\n",
              "      <td>0.0</td>\n",
              "      <td>TEXT</td>\n",
              "      <td>1</td>\n",
              "      <td>OTP</td>\n",
              "      <td>2021-06-05 20:41:59</td>\n",
              "      <td>evening</td>\n",
              "      <td>6</td>\n",
              "      <td>5</td>\n",
              "      <td>22</td>\n",
              "    </tr>\n",
              "  </tbody>\n",
              "</table>\n",
              "</div>"
            ],
            "text/plain": [
              "  MOBILE_NUMBER           TIMESTAMP     STATUS  ... MONTH  DAY WEEK_OF_YEAR\n",
              "0    9958839124 2021-06-05 16:03:31  Delivered  ...     6    5           22\n",
              "1    6204839638 2021-06-05 20:41:57  Delivered  ...     6    5           22\n",
              "2    6201108256 2021-06-05 20:41:57  Delivered  ...     6    5           22\n",
              "3    8435178035 2021-06-05 20:41:59  Delivered  ...     6    5           22\n",
              "\n",
              "[4 rows x 13 columns]"
            ]
          },
          "metadata": {},
          "execution_count": 9
        }
      ]
    },
    {
      "cell_type": "code",
      "source": [
        "correlation_map = df1[df1.columns].corr()\n",
        "obj = np.array(correlation_map)\n",
        "obj[np.tril_indices_from(obj)] = False\n",
        "fig,ax= plt.subplots()\n",
        "fig.set_size_inches(9,9)\n",
        "sns.heatmap(correlation_map, mask=obj,vmax=.7, square=True,annot=True)"
      ],
      "metadata": {
        "colab": {
          "base_uri": "https://localhost:8080/",
          "height": 603
        },
        "id": "LD0depxZqIvB",
        "outputId": "0790474f-fcc0-4c0f-e947-ed033daca92c"
      },
      "execution_count": 27,
      "outputs": [
        {
          "output_type": "execute_result",
          "data": {
            "text/plain": [
              "<matplotlib.axes._subplots.AxesSubplot at 0x7efc7a19ad50>"
            ]
          },
          "metadata": {},
          "execution_count": 27
        },
        {
          "output_type": "display_data",
          "data": {
            "image/png": "[encoded data removed]",
            "text/plain": [
              "<Figure size 648x648 with 2 Axes>"
            ]
          },
          "metadata": {
            "needs_background": "light"
          }
        }
      ]
    },
    {
      "cell_type": "code",
      "source": [
        "plt.subplots(figsize=(15,9))\n",
        "sns.countplot(x='DAY',hue='CAUSE',data=df1);"
      ],
      "metadata": {
        "colab": {
          "base_uri": "https://localhost:8080/",
          "height": 553
        },
        "id": "jY1uiby1qd8L",
        "outputId": "72fab628-dcfa-4846-db92-97195a9858d4"
      },
      "execution_count": 19,
      "outputs": [
        {
          "output_type": "display_data",
          "data": {
            "image/png": "[encoded data removed]",
            "text/plain": [
              "<Figure size 1080x648 with 1 Axes>"
            ]
          },
          "metadata": {
            "needs_background": "light"
          }
        }
      ]
    },
    {
      "cell_type": "code",
      "source": [
        "plt.subplots(figsize=(15,9))\n",
        "sns.countplot(x='DAY',hue='part_of_day',data=df1);"
      ],
      "metadata": {
        "colab": {
          "base_uri": "https://localhost:8080/",
          "height": 553
        },
        "id": "Tt-mNdJ1sJnX",
        "outputId": "734d4f0b-fda7-4675-c99c-2680d9a811a0"
      },
      "execution_count": 25,
      "outputs": [
        {
          "output_type": "display_data",
          "data": {
            "image/png": "[encoded data removed]",
            "text/plain": [
              "<Figure size 1080x648 with 1 Axes>"
            ]
          },
          "metadata": {
            "needs_background": "light"
          }
        }
      ]
    },
    {
      "cell_type": "code",
      "source": [
        "plt.subplots(figsize=(15,9))\n",
        "sns.countplot(x='WEEK_OF_YEAR',hue='part_of_day',data=df1);"
      ],
      "metadata": {
        "colab": {
          "base_uri": "https://localhost:8080/",
          "height": 529
        },
        "id": "jqO-Tr7RwhFi",
        "outputId": "8873f11f-c877-4143-d332-b45253d0d741"
      },
      "execution_count": 28,
      "outputs": [
        {
          "output_type": "display_data",
          "data": {
            "image/png": "[encoded data removed]",
            "text/plain": [
              "<Figure size 1080x648 with 1 Axes>"
            ]
          },
          "metadata": {
            "needs_background": "light"
          }
        }
      ]
    },
    {
      "cell_type": "code",
      "source": [
        "plt.subplots(figsize=(15,9))\n",
        "sns.scatterplot(x='LATENCY_MINUTES',y='NUMBER_MESSAGES',hue='MESSAGE_TYPE',data=df1,);"
      ],
      "metadata": {
        "id": "1oBM6LZ43Ej6"
      },
      "execution_count": null,
      "outputs": []
    }
  ]
}